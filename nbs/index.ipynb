{
 "cells": [
  {
   "cell_type": "markdown",
   "metadata": {},
   "source": [
    "# RevChem\n",
    "\n",
    "Have you ever wanted to educate young minds with visual media? Are you a science instructor?\n",
    "Well look no further, the RevChem project was made with you in mind!"
   ]
  },
  {
   "cell_type": "markdown",
   "metadata": {},
   "source": [
    "## Purpose\n",
    "`RevChem` is the software library behind the data processing of data exported from RealEye and Tobii systems.\n",
    "We are sharing our tools in the spirit of transparency, scientific reproducibility, and friendship; to augment your efforts working with the timeseries aspects of video data that may inform and impower your work as an educator / curriculum designer"
   ]
  },
  {
   "cell_type": "markdown",
   "metadata": {},
   "source": [
    "## What's inside\n",
    "- `RevChem/`: The portable source code library that would be used if you wanted to run your own analyses. This is what is installed when you install this project\n",
    "- `nbs/`: the directory of notebooks that were this project. Some export code, others simply demonstrate the work we are trying to do."
   ]
  },
  {
   "cell_type": "markdown",
   "metadata": {},
   "source": []
  }
 ],
 "metadata": {
  "language_info": {
   "name": "plaintext"
  }
 },
 "nbformat": 4,
 "nbformat_minor": 2
}
