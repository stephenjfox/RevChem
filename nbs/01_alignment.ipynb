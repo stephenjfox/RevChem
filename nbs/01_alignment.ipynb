{
 "cells": [
  {
   "cell_type": "markdown",
   "metadata": {},
   "source": [
    "## Where we've been\n",
    "\n",
    "Document \n",
    "1. hardest parts (completed)\n",
    "    - Parsing the RealEye data in a memory-conscious manner (doing it poorly can cause an OOM Error)\n",
    "    - Resolving the chronological starting point of the timeseries\n",
    "2. lingering questions\n",
    "3. Synchronizing the two time series"
   ]
  },
  {
   "cell_type": "markdown",
   "metadata": {},
   "source": [
    "## Questions as a Software Engineer"
   ]
  },
  {
   "cell_type": "markdown",
   "metadata": {},
   "source": [
    "### Do we want to share code?\n",
    "I have a private GitHub repository of the source code that I'm working right now.\n",
    "* [ ] Publicize\n",
    "* [ ] Transfer ownership"
   ]
  },
  {
   "cell_type": "markdown",
   "metadata": {},
   "source": [
    "### Source\n",
    "\n",
    "Source code language\n",
    "* I've got things written in Python. I can switch to Julia, if we want to be more friendly to MATLAB-ers/R folks"
   ]
  },
  {
   "cell_type": "markdown",
   "metadata": {},
   "source": [
    "## Questions as a Data Scientist"
   ]
  },
  {
   "cell_type": "markdown",
   "metadata": {},
   "source": [
    "### Reports: analysis ✅ video ❓\n"
   ]
  },
  {
   "cell_type": "markdown",
   "metadata": {},
   "source": [
    "# Aligning the data\n",
    "\n",
    "We have tools to work with the raw Tobii data: standard ts data (obs, timestamps, et cetera)"
   ]
  },
  {
   "cell_type": "code",
   "execution_count": null,
   "metadata": {},
   "outputs": [],
   "source": []
  },
  {
   "cell_type": "markdown",
   "metadata": {},
   "source": [
    "# Task\n",
    "- [x] Generate CSVs of the participants: coordinates\n",
    "    - [x] Include timestamps, so it can be synchronized later\n",
    "        - [x] Computing timestamps, based on the sample rate\n",
    "            - RealEye: 30 Hz\n",
    "            - Tobii: 250 Hz\n",
    "    - [x] One CSV per participant\n",
    "        - This is the pairing of the TSV files\n",
    "    - [x] One CSV per caputure technology (again, RealEye and Tobii)\n",
    "        - Schema: `{date}_{participant}_{capture}.csv` -> (e.g.) `{export dir}/2025-03-11_Ninetails/(realeye|tobii).csv`\n",
    "        - This directly matches the Tobii TSV, but...\n",
    "    - [x] Trim the Tobii data to be less verbose, as we don't need everything they output\n",
    "- [x] Share the generate CSV"
   ]
  },
  {
   "cell_type": "markdown",
   "metadata": {},
   "source": [
    "# Writing\n",
    "\n",
    "Bug hunting isn't super interesting for anyone.\n",
    "- Audience sensitivities: you want to document the sharp edges, thorny points and such.\n",
    "    - How we solved the problems of the inconsistencies in the data format?\n",
    "    - "
   ]
  },
  {
   "cell_type": "markdown",
   "metadata": {},
   "source": [
    "## Participants\n",
    "We need need three, and we can do up to 8.\n",
    "- We have 27 time series and we would hope for a few more.\n"
   ]
  },
  {
   "cell_type": "markdown",
   "metadata": {},
   "source": [
    "### Summer regroup\n",
    "\n",
    "Hopefully, we'll have 60 from Kathy's batch. Then we'll really have viewing patterns, answers and explanations to compare.\n",
    "\n",
    "There's an algorithm for prediction / interpreting the eye-tracking data."
   ]
  },
  {
   "cell_type": "markdown",
   "metadata": {},
   "source": [
    "Phase 2 is Matthew working on the algorithm\n",
    "\n",
    "\n",
    "Phase 3 is Algorithm prompting people in a clinical and RealEye setting\n",
    "- Scaling this is a challenge\n",
    "- RealEye could get us participants and have them going through the tutorial, *remotely*."
   ]
  },
  {
   "cell_type": "markdown",
   "metadata": {},
   "source": [
    "## Regarding the NSF grant and the work ahead\n",
    "\n",
    "**Refer to the grant to reorient for the work**.\n",
    "\n",
    "Consider, for instance, one of the big motivators of the project\n",
    "> Based on statistics and time series, what make for good stimuli?\n",
    "\n",
    "So when we look at the \"Research Question and Project Goals\":\n",
    "- Bambi and Vien have been working on the first bullet\n",
    "- Stephen has been working on the second bullet\n",
    "- Hierachy of AOI qualitative is worth looking at.\n",
    "    - Whichever level has the interest, that's where we want to invest\n",
    "    - Have to do the analysis to see if viewing patterns can be modeled.\n",
    "- Feedback reporting: individual vs group, cued versus verbal\n",
    "    - Viewing pattern shft-based impact on problem-solving"
   ]
  },
  {
   "cell_type": "markdown",
   "metadata": {},
   "source": [
    "### Analysis of our data\n",
    "\n",
    "We're in the throws of this.\n",
    "- Demographic section hasn't been touched and it seems the federal government doesn't want us to know about it.\n",
    "    - We are making the student's comfort a priority\n",
    "    - We want to make sure that the demographic info supports the individuals we want to support."
   ]
  },
  {
   "cell_type": "markdown",
   "metadata": {},
   "source": [
    "### Coming up with Goals\n",
    "- Building capacity in the research space\n",
    "    - Helping Kathy and Sarah\n",
    "    - Helping the whole field, that we are getting more educated with the tools\n",
    "- What are *your* goals in this work?"
   ]
  },
  {
   "cell_type": "markdown",
   "metadata": {},
   "source": [
    "### Stephen's design for the Summer\n",
    "\n",
    "- May 19-31st: easily 10 hours a week, probably 20 hours a week.\n",
    "- June 1st-20th: more like 10 hours a week, again without issue."
   ]
  },
  {
   "cell_type": "code",
   "execution_count": null,
   "metadata": {},
   "outputs": [],
   "source": []
  }
 ],
 "metadata": {
  "language_info": {
   "name": "python"
  }
 },
 "nbformat": 4,
 "nbformat_minor": 2
}
