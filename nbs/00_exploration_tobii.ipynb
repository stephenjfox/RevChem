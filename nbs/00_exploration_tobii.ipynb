{
 "cells": [
  {
   "cell_type": "markdown",
   "metadata": {},
   "source": [
    "# Data Exploration of Tobii data\n",
    "\n",
    "This report and analysis of the Tobii data in its `fixations.csv`, `aoi-fixations.csv` (renaming by Stephen), and `participant`-level data."
   ]
  },
  {
   "cell_type": "code",
   "execution_count": null,
   "metadata": {},
   "outputs": [],
   "source": [
    "import polars as pl"
   ]
  },
  {
   "cell_type": "code",
   "execution_count": null,
   "metadata": {},
   "outputs": [
    {
     "name": "stdout",
     "output_type": "stream",
     "text": [
      "20250311222210-aoi-metrics-per-participant-744cb4a0-7b80-4660-bbbd-46bbfae22887.csv\r\n",
      "20250311222342-aoi-overall-stats-744cb4a0-7b80-4660-bbbd-46bbfae22887.csv\r\n",
      "Tobii-RealEye-Metadata.xlsx\r\n",
      "aoi-fixations.csv\r\n",
      "fixations.csv\r\n",
      "\u001b[30m\u001b[43mparticipants\u001b[m\u001b[m\r\n",
      "raw-gazes.csv\r\n"
     ]
    }
   ],
   "source": [
    "DATA_ROOT = \"../RevChemData/2025-03-11-Data_Export\"\n",
    "!ls {DATA_ROOT}\n",
    "# pl.scan_csv()"
   ]
  },
  {
   "cell_type": "code",
   "execution_count": null,
   "metadata": {},
   "outputs": [
    {
     "data": {
      "text/html": [
       "<div><style>\n",
       ".dataframe > thead > tr,\n",
       ".dataframe > tbody > tr {\n",
       "  text-align: right;\n",
       "  white-space: pre-wrap;\n",
       "}\n",
       "</style>\n",
       "<small>shape: (10, 2)</small><table border=\"1\" class=\"dataframe\"><thead><tr><th>fixation_point_x</th><th>fixation_point_y</th></tr><tr><td>f64</td><td>f64</td></tr></thead><tbody><tr><td>48.131962</td><td>50.877909</td></tr><tr><td>49.643065</td><td>52.918336</td></tr><tr><td>47.914583</td><td>53.053042</td></tr><tr><td>50.919387</td><td>55.763816</td></tr><tr><td>52.036361</td><td>60.264804</td></tr><tr><td>53.880208</td><td>57.258598</td></tr><tr><td>55.97332</td><td>76.12511</td></tr><tr><td>46.790795</td><td>96.371595</td></tr><tr><td>67.18142</td><td>89.38716</td></tr><tr><td>54.832887</td><td>95.85293</td></tr></tbody></table></div>"
      ],
      "text/plain": [
       "shape: (10, 2)\n",
       "┌──────────────────┬──────────────────┐\n",
       "│ fixation_point_x ┆ fixation_point_y │\n",
       "│ ---              ┆ ---              │\n",
       "│ f64              ┆ f64              │\n",
       "╞══════════════════╪══════════════════╡\n",
       "│ 48.131962        ┆ 50.877909        │\n",
       "│ 49.643065        ┆ 52.918336        │\n",
       "│ 47.914583        ┆ 53.053042        │\n",
       "│ 50.919387        ┆ 55.763816        │\n",
       "│ 52.036361        ┆ 60.264804        │\n",
       "│ 53.880208        ┆ 57.258598        │\n",
       "│ 55.97332         ┆ 76.12511         │\n",
       "│ 46.790795        ┆ 96.371595        │\n",
       "│ 67.18142         ┆ 89.38716         │\n",
       "│ 54.832887        ┆ 95.85293         │\n",
       "└──────────────────┴──────────────────┘"
      ]
     },
     "execution_count": null,
     "metadata": {},
     "output_type": "execute_result"
    }
   ],
   "source": [
    "fixations_csv = pl.scan_csv(DATA_ROOT + \"/fixations.csv\")\n",
    "# fixations_csv.fetch(10)\n",
    "fixations_csv.select([\"fixation_point_x\", \"fixation_point_y\"]).head(10).collect()"
   ]
  },
  {
   "cell_type": "code",
   "execution_count": null,
   "metadata": {},
   "outputs": [
    {
     "data": {
      "text/html": [
       "<div><style>\n",
       ".dataframe > thead > tr,\n",
       ".dataframe > tbody > tr {\n",
       "  text-align: right;\n",
       "  white-space: pre-wrap;\n",
       "}\n",
       "</style>\n",
       "<small>shape: (5, 19)</small><table border=\"1\" class=\"dataframe\"><thead><tr><th>study_id</th><th>item_id</th><th>item_filename</th><th>item_cdn_url</th><th>participant_id</th><th>participant_external_id</th><th>participant_display_name</th><th>participant_tags</th><th>participant_quality_grade</th><th>participant_quality_grade_item</th><th>test_item_display_order</th><th>exposure_number</th><th>fixation_point_x</th><th>fixation_point_y</th><th>fixation_starts_at_ms</th><th>fixation_ends_at_ms</th><th>fixation_duration_ms</th><th>saccade_length_px</th><th>notes</th></tr><tr><td>str</td><td>str</td><td>str</td><td>str</td><td>str</td><td>str</td><td>str</td><td>str</td><td>i64</td><td>i64</td><td>i64</td><td>i64</td><td>f64</td><td>f64</td><td>i64</td><td>i64</td><td>i64</td><td>f64</td><td>str</td></tr></thead><tbody><tr><td>&quot;744cb4a0-7b80-4660-bbbd-46bbfa…</td><td>&quot;5b8637a5-c1c7-47cc-a1b4-5abe24…</td><td>&quot;Shapes 1/2&quot;</td><td>&quot;https://d48dl6cezsco5.cloudfro…</td><td>&quot;62e1d6db-e570-4194-b792-1fc4ef…</td><td>null</td><td>&quot;Anonymous&quot;</td><td>null</td><td>5</td><td>6</td><td>1</td><td>1</td><td>48.131962</td><td>50.877909</td><td>0</td><td>386</td><td>386</td><td>1.653868</td><td>&quot;RealEye v18.24.5; FixationFilt…</td></tr><tr><td>&quot;744cb4a0-7b80-4660-bbbd-46bbfa…</td><td>&quot;5b8637a5-c1c7-47cc-a1b4-5abe24…</td><td>&quot;Shapes 1/2&quot;</td><td>&quot;https://d48dl6cezsco5.cloudfro…</td><td>&quot;62e1d6db-e570-4194-b792-1fc4ef…</td><td>null</td><td>&quot;Anonymous&quot;</td><td>null</td><td>5</td><td>6</td><td>1</td><td>1</td><td>49.643065</td><td>52.918336</td><td>405</td><td>799</td><td>394</td><td>1.507949</td><td>null</td></tr><tr><td>&quot;744cb4a0-7b80-4660-bbbd-46bbfa…</td><td>&quot;5b8637a5-c1c7-47cc-a1b4-5abe24…</td><td>&quot;Shapes 1/2&quot;</td><td>&quot;https://d48dl6cezsco5.cloudfro…</td><td>&quot;62e1d6db-e570-4194-b792-1fc4ef…</td><td>null</td><td>&quot;Anonymous&quot;</td><td>null</td><td>5</td><td>6</td><td>1</td><td>1</td><td>47.914583</td><td>53.053042</td><td>817</td><td>1018</td><td>201</td><td>null</td><td>null</td></tr><tr><td>&quot;744cb4a0-7b80-4660-bbbd-46bbfa…</td><td>&quot;5b8637a5-c1c7-47cc-a1b4-5abe24…</td><td>&quot;Shapes 1/2&quot;</td><td>&quot;https://d48dl6cezsco5.cloudfro…</td><td>&quot;a19074f0-818d-42d2-8d29-290429…</td><td>null</td><td>&quot;Anonymous&quot;</td><td>null</td><td>2</td><td>6</td><td>1</td><td>1</td><td>50.919387</td><td>55.763816</td><td>4</td><td>387</td><td>383</td><td>2.411867</td><td>null</td></tr><tr><td>&quot;744cb4a0-7b80-4660-bbbd-46bbfa…</td><td>&quot;5b8637a5-c1c7-47cc-a1b4-5abe24…</td><td>&quot;Shapes 1/2&quot;</td><td>&quot;https://d48dl6cezsco5.cloudfro…</td><td>&quot;a19074f0-818d-42d2-8d29-290429…</td><td>null</td><td>&quot;Anonymous&quot;</td><td>null</td><td>2</td><td>6</td><td>1</td><td>1</td><td>52.036361</td><td>60.264804</td><td>419</td><td>803</td><td>384</td><td>2.180546</td><td>null</td></tr></tbody></table></div>"
      ],
      "text/plain": [
       "shape: (5, 19)\n",
       "┌───────────┬───────────┬───────────┬───────────┬───┬───────────┬───────────┬───────────┬──────────┐\n",
       "│ study_id  ┆ item_id   ┆ item_file ┆ item_cdn_ ┆ … ┆ fixation_ ┆ fixation_ ┆ saccade_l ┆ notes    │\n",
       "│ ---       ┆ ---       ┆ name      ┆ url       ┆   ┆ ends_at_m ┆ duration_ ┆ ength_px  ┆ ---      │\n",
       "│ str       ┆ str       ┆ ---       ┆ ---       ┆   ┆ s         ┆ ms        ┆ ---       ┆ str      │\n",
       "│           ┆           ┆ str       ┆ str       ┆   ┆ ---       ┆ ---       ┆ f64       ┆          │\n",
       "│           ┆           ┆           ┆           ┆   ┆ i64       ┆ i64       ┆           ┆          │\n",
       "╞═══════════╪═══════════╪═══════════╪═══════════╪═══╪═══════════╪═══════════╪═══════════╪══════════╡\n",
       "│ 744cb4a0- ┆ 5b8637a5- ┆ Shapes    ┆ https://d ┆ … ┆ 386       ┆ 386       ┆ 1.653868  ┆ RealEye  │\n",
       "│ 7b80-4660 ┆ c1c7-47cc ┆ 1/2       ┆ 48dl6cezs ┆   ┆           ┆           ┆           ┆ v18.24.5 │\n",
       "│ -bbbd-46b ┆ -a1b4-5ab ┆           ┆ co5.cloud ┆   ┆           ┆           ┆           ┆ ; Fixati │\n",
       "│ bfa…      ┆ e24…      ┆           ┆ fro…      ┆   ┆           ┆           ┆           ┆ onFilt…  │\n",
       "│ 744cb4a0- ┆ 5b8637a5- ┆ Shapes    ┆ https://d ┆ … ┆ 799       ┆ 394       ┆ 1.507949  ┆ null     │\n",
       "│ 7b80-4660 ┆ c1c7-47cc ┆ 1/2       ┆ 48dl6cezs ┆   ┆           ┆           ┆           ┆          │\n",
       "│ -bbbd-46b ┆ -a1b4-5ab ┆           ┆ co5.cloud ┆   ┆           ┆           ┆           ┆          │\n",
       "│ bfa…      ┆ e24…      ┆           ┆ fro…      ┆   ┆           ┆           ┆           ┆          │\n",
       "│ 744cb4a0- ┆ 5b8637a5- ┆ Shapes    ┆ https://d ┆ … ┆ 1018      ┆ 201       ┆ null      ┆ null     │\n",
       "│ 7b80-4660 ┆ c1c7-47cc ┆ 1/2       ┆ 48dl6cezs ┆   ┆           ┆           ┆           ┆          │\n",
       "│ -bbbd-46b ┆ -a1b4-5ab ┆           ┆ co5.cloud ┆   ┆           ┆           ┆           ┆          │\n",
       "│ bfa…      ┆ e24…      ┆           ┆ fro…      ┆   ┆           ┆           ┆           ┆          │\n",
       "│ 744cb4a0- ┆ 5b8637a5- ┆ Shapes    ┆ https://d ┆ … ┆ 387       ┆ 383       ┆ 2.411867  ┆ null     │\n",
       "│ 7b80-4660 ┆ c1c7-47cc ┆ 1/2       ┆ 48dl6cezs ┆   ┆           ┆           ┆           ┆          │\n",
       "│ -bbbd-46b ┆ -a1b4-5ab ┆           ┆ co5.cloud ┆   ┆           ┆           ┆           ┆          │\n",
       "│ bfa…      ┆ e24…      ┆           ┆ fro…      ┆   ┆           ┆           ┆           ┆          │\n",
       "│ 744cb4a0- ┆ 5b8637a5- ┆ Shapes    ┆ https://d ┆ … ┆ 803       ┆ 384       ┆ 2.180546  ┆ null     │\n",
       "│ 7b80-4660 ┆ c1c7-47cc ┆ 1/2       ┆ 48dl6cezs ┆   ┆           ┆           ┆           ┆          │\n",
       "│ -bbbd-46b ┆ -a1b4-5ab ┆           ┆ co5.cloud ┆   ┆           ┆           ┆           ┆          │\n",
       "│ bfa…      ┆ e24…      ┆           ┆ fro…      ┆   ┆           ┆           ┆           ┆          │\n",
       "└───────────┴───────────┴───────────┴───────────┴───┴───────────┴───────────┴───────────┴──────────┘"
      ]
     },
     "execution_count": null,
     "metadata": {},
     "output_type": "execute_result"
    }
   ],
   "source": [
    "fixations_csv.head().collect()"
   ]
  },
  {
   "cell_type": "code",
   "execution_count": null,
   "metadata": {},
   "outputs": [],
   "source": [
    "import polars.selectors as cs"
   ]
  },
  {
   "cell_type": "markdown",
   "metadata": {},
   "source": [
    "## Checking the ID columns that we have in our records"
   ]
  },
  {
   "cell_type": "code",
   "execution_count": null,
   "metadata": {},
   "outputs": [
    {
     "data": {
      "text/html": [
       "<div><style>\n",
       ".dataframe > thead > tr,\n",
       ".dataframe > tbody > tr {\n",
       "  text-align: right;\n",
       "  white-space: pre-wrap;\n",
       "}\n",
       "</style>\n",
       "<small>shape: (10, 4)</small><table border=\"1\" class=\"dataframe\"><thead><tr><th>study_id</th><th>item_id</th><th>participant_id</th><th>participant_external_id</th></tr><tr><td>str</td><td>str</td><td>str</td><td>str</td></tr></thead><tbody><tr><td>&quot;744cb4a0-7b80-4660-bbbd-46bbfa…</td><td>&quot;5b8637a5-c1c7-47cc-a1b4-5abe24…</td><td>&quot;62e1d6db-e570-4194-b792-1fc4ef…</td><td>null</td></tr><tr><td>&quot;744cb4a0-7b80-4660-bbbd-46bbfa…</td><td>&quot;5b8637a5-c1c7-47cc-a1b4-5abe24…</td><td>&quot;62e1d6db-e570-4194-b792-1fc4ef…</td><td>null</td></tr><tr><td>&quot;744cb4a0-7b80-4660-bbbd-46bbfa…</td><td>&quot;5b8637a5-c1c7-47cc-a1b4-5abe24…</td><td>&quot;62e1d6db-e570-4194-b792-1fc4ef…</td><td>null</td></tr><tr><td>&quot;744cb4a0-7b80-4660-bbbd-46bbfa…</td><td>&quot;5b8637a5-c1c7-47cc-a1b4-5abe24…</td><td>&quot;a19074f0-818d-42d2-8d29-290429…</td><td>null</td></tr><tr><td>&quot;744cb4a0-7b80-4660-bbbd-46bbfa…</td><td>&quot;5b8637a5-c1c7-47cc-a1b4-5abe24…</td><td>&quot;a19074f0-818d-42d2-8d29-290429…</td><td>null</td></tr><tr><td>&quot;744cb4a0-7b80-4660-bbbd-46bbfa…</td><td>&quot;5b8637a5-c1c7-47cc-a1b4-5abe24…</td><td>&quot;a19074f0-818d-42d2-8d29-290429…</td><td>null</td></tr><tr><td>&quot;744cb4a0-7b80-4660-bbbd-46bbfa…</td><td>&quot;5b8637a5-c1c7-47cc-a1b4-5abe24…</td><td>&quot;5f08f1c2-e9f3-4adb-9fb4-a68b3a…</td><td>null</td></tr><tr><td>&quot;744cb4a0-7b80-4660-bbbd-46bbfa…</td><td>&quot;5b8637a5-c1c7-47cc-a1b4-5abe24…</td><td>&quot;5f08f1c2-e9f3-4adb-9fb4-a68b3a…</td><td>null</td></tr><tr><td>&quot;744cb4a0-7b80-4660-bbbd-46bbfa…</td><td>&quot;5b8637a5-c1c7-47cc-a1b4-5abe24…</td><td>&quot;5f08f1c2-e9f3-4adb-9fb4-a68b3a…</td><td>null</td></tr><tr><td>&quot;744cb4a0-7b80-4660-bbbd-46bbfa…</td><td>&quot;5b8637a5-c1c7-47cc-a1b4-5abe24…</td><td>&quot;5f08f1c2-e9f3-4adb-9fb4-a68b3a…</td><td>null</td></tr></tbody></table></div>"
      ],
      "text/plain": [
       "shape: (10, 4)\n",
       "┌────────────────────────┬────────────────────────┬────────────────────────┬───────────────────────┐\n",
       "│ study_id               ┆ item_id                ┆ participant_id         ┆ participant_external_ │\n",
       "│ ---                    ┆ ---                    ┆ ---                    ┆ id                    │\n",
       "│ str                    ┆ str                    ┆ str                    ┆ ---                   │\n",
       "│                        ┆                        ┆                        ┆ str                   │\n",
       "╞════════════════════════╪════════════════════════╪════════════════════════╪═══════════════════════╡\n",
       "│ 744cb4a0-7b80-4660-bbb ┆ 5b8637a5-c1c7-47cc-a1b ┆ 62e1d6db-e570-4194-b79 ┆ null                  │\n",
       "│ d-46bbfa…              ┆ 4-5abe24…              ┆ 2-1fc4ef…              ┆                       │\n",
       "│ 744cb4a0-7b80-4660-bbb ┆ 5b8637a5-c1c7-47cc-a1b ┆ 62e1d6db-e570-4194-b79 ┆ null                  │\n",
       "│ d-46bbfa…              ┆ 4-5abe24…              ┆ 2-1fc4ef…              ┆                       │\n",
       "│ 744cb4a0-7b80-4660-bbb ┆ 5b8637a5-c1c7-47cc-a1b ┆ 62e1d6db-e570-4194-b79 ┆ null                  │\n",
       "│ d-46bbfa…              ┆ 4-5abe24…              ┆ 2-1fc4ef…              ┆                       │\n",
       "│ 744cb4a0-7b80-4660-bbb ┆ 5b8637a5-c1c7-47cc-a1b ┆ a19074f0-818d-42d2-8d2 ┆ null                  │\n",
       "│ d-46bbfa…              ┆ 4-5abe24…              ┆ 9-290429…              ┆                       │\n",
       "│ 744cb4a0-7b80-4660-bbb ┆ 5b8637a5-c1c7-47cc-a1b ┆ a19074f0-818d-42d2-8d2 ┆ null                  │\n",
       "│ d-46bbfa…              ┆ 4-5abe24…              ┆ 9-290429…              ┆                       │\n",
       "│ 744cb4a0-7b80-4660-bbb ┆ 5b8637a5-c1c7-47cc-a1b ┆ a19074f0-818d-42d2-8d2 ┆ null                  │\n",
       "│ d-46bbfa…              ┆ 4-5abe24…              ┆ 9-290429…              ┆                       │\n",
       "│ 744cb4a0-7b80-4660-bbb ┆ 5b8637a5-c1c7-47cc-a1b ┆ 5f08f1c2-e9f3-4adb-9fb ┆ null                  │\n",
       "│ d-46bbfa…              ┆ 4-5abe24…              ┆ 4-a68b3a…              ┆                       │\n",
       "│ 744cb4a0-7b80-4660-bbb ┆ 5b8637a5-c1c7-47cc-a1b ┆ 5f08f1c2-e9f3-4adb-9fb ┆ null                  │\n",
       "│ d-46bbfa…              ┆ 4-5abe24…              ┆ 4-a68b3a…              ┆                       │\n",
       "│ 744cb4a0-7b80-4660-bbb ┆ 5b8637a5-c1c7-47cc-a1b ┆ 5f08f1c2-e9f3-4adb-9fb ┆ null                  │\n",
       "│ d-46bbfa…              ┆ 4-5abe24…              ┆ 4-a68b3a…              ┆                       │\n",
       "│ 744cb4a0-7b80-4660-bbb ┆ 5b8637a5-c1c7-47cc-a1b ┆ 5f08f1c2-e9f3-4adb-9fb ┆ null                  │\n",
       "│ d-46bbfa…              ┆ 4-5abe24…              ┆ 4-a68b3a…              ┆                       │\n",
       "└────────────────────────┴────────────────────────┴────────────────────────┴───────────────────────┘"
      ]
     },
     "execution_count": null,
     "metadata": {},
     "output_type": "execute_result"
    }
   ],
   "source": [
    "fixations_csv.select(cs.ends_with(\"_id\")).head(10).collect()"
   ]
  },
  {
   "cell_type": "code",
   "execution_count": null,
   "metadata": {},
   "outputs": [],
   "source": [
    "unique_ids = {\n",
    "    column_name: fixations_csv.select(pl.col(column_name)).unique().collect()\n",
    "    for column_name in fixations_csv.select(cs.ends_with(\"_id\")).collect_schema().names()\n",
    "}"
   ]
  },
  {
   "cell_type": "markdown",
   "metadata": {},
   "source": [
    "**Note**: Positron shows me the variables, so I don't need this in the notebook, but for the sake of reporting"
   ]
  },
  {
   "cell_type": "code",
   "execution_count": null,
   "metadata": {},
   "outputs": [
    {
     "data": {
      "text/plain": [
       "{'study_id': 1,\n",
       " 'item_id': 10,\n",
       " 'participant_id': 26,\n",
       " 'participant_external_id': 1}"
      ]
     },
     "execution_count": null,
     "metadata": {},
     "output_type": "execute_result"
    }
   ],
   "source": [
    "{\n",
    "    name: len(column)\n",
    "    for (name, column) in unique_ids.items()\n",
    "}"
   ]
  },
  {
   "cell_type": "markdown",
   "metadata": {},
   "source": [
    "### Sub-question: how many unique values do we have?"
   ]
  },
  {
   "cell_type": "code",
   "execution_count": null,
   "metadata": {},
   "outputs": [
    {
     "data": {
      "text/html": [
       "<div><style>\n",
       ".dataframe > thead > tr,\n",
       ".dataframe > tbody > tr {\n",
       "  text-align: right;\n",
       "  white-space: pre-wrap;\n",
       "}\n",
       "</style>\n",
       "<small>shape: (1, 19)</small><table border=\"1\" class=\"dataframe\"><thead><tr><th>study_id</th><th>item_id</th><th>item_filename</th><th>item_cdn_url</th><th>participant_id</th><th>participant_external_id</th><th>participant_display_name</th><th>participant_tags</th><th>participant_quality_grade</th><th>participant_quality_grade_item</th><th>test_item_display_order</th><th>exposure_number</th><th>fixation_point_x</th><th>fixation_point_y</th><th>fixation_starts_at_ms</th><th>fixation_ends_at_ms</th><th>fixation_duration_ms</th><th>saccade_length_px</th><th>notes</th></tr><tr><td>u32</td><td>u32</td><td>u32</td><td>u32</td><td>u32</td><td>u32</td><td>u32</td><td>u32</td><td>u32</td><td>u32</td><td>u32</td><td>u32</td><td>u32</td><td>u32</td><td>u32</td><td>u32</td><td>u32</td><td>u32</td><td>u32</td></tr></thead><tbody><tr><td>1</td><td>10</td><td>9</td><td>10</td><td>26</td><td>1</td><td>1</td><td>1</td><td>4</td><td>5</td><td>10</td><td>1</td><td>18276</td><td>18029</td><td>15302</td><td>15399</td><td>321</td><td>17296</td><td>2</td></tr></tbody></table></div>"
      ],
      "text/plain": [
       "shape: (1, 19)\n",
       "┌──────────┬─────────┬─────────────┬────────────┬───┬────────────┬────────────┬────────────┬───────┐\n",
       "│ study_id ┆ item_id ┆ item_filena ┆ item_cdn_u ┆ … ┆ fixation_e ┆ fixation_d ┆ saccade_le ┆ notes │\n",
       "│ ---      ┆ ---     ┆ me          ┆ rl         ┆   ┆ nds_at_ms  ┆ uration_ms ┆ ngth_px    ┆ ---   │\n",
       "│ u32      ┆ u32     ┆ ---         ┆ ---        ┆   ┆ ---        ┆ ---        ┆ ---        ┆ u32   │\n",
       "│          ┆         ┆ u32         ┆ u32        ┆   ┆ u32        ┆ u32        ┆ u32        ┆       │\n",
       "╞══════════╪═════════╪═════════════╪════════════╪═══╪════════════╪════════════╪════════════╪═══════╡\n",
       "│ 1        ┆ 10      ┆ 9           ┆ 10         ┆ … ┆ 15399      ┆ 321        ┆ 17296      ┆ 2     │\n",
       "└──────────┴─────────┴─────────────┴────────────┴───┴────────────┴────────────┴────────────┴───────┘"
      ]
     },
     "execution_count": null,
     "metadata": {},
     "output_type": "execute_result"
    }
   ],
   "source": [
    "fixations_csv.select(pl.all().approx_n_unique()).collect()"
   ]
  },
  {
   "cell_type": "code",
   "execution_count": null,
   "metadata": {},
   "outputs": [],
   "source": []
  },
  {
   "cell_type": "markdown",
   "metadata": {},
   "source": [
    "## What do the fixation points look like?\n",
    "\n",
    "Fixation points, timings, and coordinate reference."
   ]
  },
  {
   "cell_type": "code",
   "execution_count": null,
   "metadata": {},
   "outputs": [
    {
     "name": "stderr",
     "output_type": "stream",
     "text": [
      "<positron-console-cell-40>:1: PerformanceWarning: Resolving the schema of a LazyFrame is a potentially expensive operation. Use `LazyFrame.collect_schema()` to get the schema without this warning.\n"
     ]
    },
    {
     "data": {
      "text/plain": [
       "Schema([('study_id', String),\n",
       "        ('item_id', String),\n",
       "        ('item_filename', String),\n",
       "        ('item_cdn_url', String),\n",
       "        ('participant_id', String),\n",
       "        ('participant_external_id', String),\n",
       "        ('participant_display_name', String),\n",
       "        ('participant_tags', String),\n",
       "        ('participant_quality_grade', Int64),\n",
       "        ('participant_quality_grade_item', Int64),\n",
       "        ('test_item_display_order', Int64),\n",
       "        ('exposure_number', Int64),\n",
       "        ('fixation_point_x', Float64),\n",
       "        ('fixation_point_y', Float64),\n",
       "        ('fixation_starts_at_ms', Int64),\n",
       "        ('fixation_ends_at_ms', Int64),\n",
       "        ('fixation_duration_ms', Int64),\n",
       "        ('saccade_length_px', Float64),\n",
       "        ('notes', String)])"
      ]
     },
     "execution_count": null,
     "metadata": {},
     "output_type": "execute_result"
    }
   ],
   "source": [
    "fixations_csv.schema"
   ]
  },
  {
   "cell_type": "code",
   "execution_count": null,
   "metadata": {},
   "outputs": [
    {
     "data": {
      "text/html": [
       "<div><style>\n",
       ".dataframe > thead > tr,\n",
       ".dataframe > tbody > tr {\n",
       "  text-align: right;\n",
       "  white-space: pre-wrap;\n",
       "}\n",
       "</style>\n",
       "<small>shape: (18_294, 4)</small><table border=\"1\" class=\"dataframe\"><thead><tr><th>fixation_point_x</th><th>fixation_point_y</th><th>fixation_starts_at_ms</th><th>fixation_ends_at_ms</th></tr><tr><td>f64</td><td>f64</td><td>i64</td><td>i64</td></tr></thead><tbody><tr><td>48.131962</td><td>50.877909</td><td>0</td><td>386</td></tr><tr><td>49.643065</td><td>52.918336</td><td>405</td><td>799</td></tr><tr><td>47.914583</td><td>53.053042</td><td>817</td><td>1018</td></tr><tr><td>50.919387</td><td>55.763816</td><td>4</td><td>387</td></tr><tr><td>52.036361</td><td>60.264804</td><td>419</td><td>803</td></tr><tr><td>&hellip;</td><td>&hellip;</td><td>&hellip;</td><td>&hellip;</td></tr><tr><td>62.377232</td><td>44.834656</td><td>58598</td><td>58779</td></tr><tr><td>62.895833</td><td>68.905093</td><td>58797</td><td>59061</td></tr><tr><td>45.658695</td><td>65.423847</td><td>59094</td><td>59255</td></tr><tr><td>70.141803</td><td>39.752439</td><td>59422</td><td>59718</td></tr><tr><td>81.097412</td><td>74.962654</td><td>59749</td><td>59969</td></tr></tbody></table></div>"
      ],
      "text/plain": [
       "shape: (18_294, 4)\n",
       "┌──────────────────┬──────────────────┬───────────────────────┬─────────────────────┐\n",
       "│ fixation_point_x ┆ fixation_point_y ┆ fixation_starts_at_ms ┆ fixation_ends_at_ms │\n",
       "│ ---              ┆ ---              ┆ ---                   ┆ ---                 │\n",
       "│ f64              ┆ f64              ┆ i64                   ┆ i64                 │\n",
       "╞══════════════════╪══════════════════╪═══════════════════════╪═════════════════════╡\n",
       "│ 48.131962        ┆ 50.877909        ┆ 0                     ┆ 386                 │\n",
       "│ 49.643065        ┆ 52.918336        ┆ 405                   ┆ 799                 │\n",
       "│ 47.914583        ┆ 53.053042        ┆ 817                   ┆ 1018                │\n",
       "│ 50.919387        ┆ 55.763816        ┆ 4                     ┆ 387                 │\n",
       "│ 52.036361        ┆ 60.264804        ┆ 419                   ┆ 803                 │\n",
       "│ …                ┆ …                ┆ …                     ┆ …                   │\n",
       "│ 62.377232        ┆ 44.834656        ┆ 58598                 ┆ 58779               │\n",
       "│ 62.895833        ┆ 68.905093        ┆ 58797                 ┆ 59061               │\n",
       "│ 45.658695        ┆ 65.423847        ┆ 59094                 ┆ 59255               │\n",
       "│ 70.141803        ┆ 39.752439        ┆ 59422                 ┆ 59718               │\n",
       "│ 81.097412        ┆ 74.962654        ┆ 59749                 ┆ 59969               │\n",
       "└──────────────────┴──────────────────┴───────────────────────┴─────────────────────┘"
      ]
     },
     "execution_count": null,
     "metadata": {},
     "output_type": "execute_result"
    }
   ],
   "source": [
    "CONST_MAIN_COLUMNS = [\"fixation_point_x\", \"fixation_point_y\", \"fixation_starts_at_ms\", \"fixation_ends_at_ms\"]\n",
    "\n",
    "fixations_csv.select(CONST_MAIN_COLUMNS).collect()"
   ]
  },
  {
   "cell_type": "markdown",
   "metadata": {},
   "source": [
    "## Participant-level data"
   ]
  },
  {
   "cell_type": "code",
   "execution_count": null,
   "metadata": {},
   "outputs": [
    {
     "name": "stdout",
     "output_type": "stream",
     "text": [
      "1.Realeye1,2,3 2025-02-19 Pikachu.tsv\r\n",
      "1.Realeye1,2,3 2025-02-19_Ailleen_RE.tsv\r\n",
      "1.Realeye1,2,3 2025-02-20_Hannah_tobii1.tsv\r\n",
      "1.Realeye1,2,3 2025-02-20_PinterestFiend.tsv\r\n",
      "1.Realeye1,2,3 2025-02-21 Charmander.tsv\r\n",
      "1.Realeye1,2,3 2025-02-21_Ponyta.tsv\r\n",
      "1.Realeye1,2,3 2025-02-26_Elinor.tsv\r\n",
      "1.Realeye1,2,3 2025-02-26_Raichu.tsv\r\n",
      "1.Realeye1,2,3 2025-02-28_Flute.tsv\r\n",
      "1.Realeye1,2,3 2025-03-03-H.tsv\r\n",
      "1.Realeye1,2,3 2025-03-05_Blastoise.tsv\r\n",
      "1.Realeye1,2,3 2025-03-05_Luna.tsv\r\n",
      "1.Realeye1,2,3 2025-03-06_Ozempic.tsv\r\n",
      "1.Realeye1,2,3 2025-03-07-Celebi.tsv\r\n",
      "1.Realeye1,2,3 2025-03-10-Dakrai.tsv\r\n",
      "1.Realeye1,2,3 2025-03-11_Ninetails.tsv\r\n",
      "1.Realeye1,2,3 2025_2_27_Pichu2.tsv\r\n",
      "1.Realeye1,2,3 2025_3_3_Mew.tsv\r\n",
      "1.Realeye1,2,3 Cyndaquil - 2025_03_07.tsv\r\n",
      "1.Realeye1,2,3 Recording10.tsv\r\n",
      "1.Realeye1,2,3 Recording11.tsv\r\n",
      "1.Realeye1,2,3 Recording12.tsv\r\n",
      "1.Realeye1,2,3 Recording13.tsv\r\n",
      "1.Realeye1,2,3 Recording8.tsv\r\n",
      "1.Realeye1,2,3 Recording9.tsv\r\n"
     ]
    }
   ],
   "source": [
    "!ls {DATA_ROOT}/participants"
   ]
  },
  {
   "cell_type": "code",
   "execution_count": null,
   "metadata": {},
   "outputs": [
    {
     "name": "stdout",
     "output_type": "stream",
     "text": [
      "   61618\r\n"
     ]
    }
   ],
   "source": [
    "!cat \"{DATA_ROOT}/participants/1.Realeye1,2,3 2025-03-11_Ninetails.tsv\" | wc -l"
   ]
  },
  {
   "cell_type": "code",
   "execution_count": null,
   "metadata": {},
   "outputs": [],
   "source": [
    "participant_tsv_ninetails = pl.read_csv(DATA_ROOT+\"/participants/1.Realeye1,2,3 2025-03-11_Ninetails.tsv\", separator=\"\\t\")"
   ]
  },
  {
   "cell_type": "markdown",
   "metadata": {},
   "source": [
    "## Can we animate a single person's session?"
   ]
  },
  {
   "cell_type": "code",
   "execution_count": null,
   "metadata": {},
   "outputs": [],
   "source": [
    "participant_schema_tobii = participant_tsv_ninetails.collect_schema()\n",
    "participant_columns_tobii = participant_schema_tobii.names()"
   ]
  },
  {
   "cell_type": "markdown",
   "metadata": {},
   "source": [
    "Participant-level schema is different from the global data... Why?"
   ]
  },
  {
   "cell_type": "code",
   "execution_count": null,
   "metadata": {},
   "outputs": [],
   "source": [
    "COLUMNS_RECORDING = [name for name in participant_columns_tobii if name.startswith(\"Recording\")]"
   ]
  },
  {
   "cell_type": "code",
   "execution_count": null,
   "metadata": {},
   "outputs": [],
   "source": [
    "COLUMNS_PIXEL = [name for name in participant_columns_tobii if \"pixel\" in name]"
   ]
  },
  {
   "cell_type": "code",
   "execution_count": null,
   "metadata": {},
   "outputs": [],
   "source": [
    "COLUMNS_GAZE = [name for name in participant_columns_tobii if \"Gaze\" in name]"
   ]
  },
  {
   "cell_type": "code",
   "execution_count": null,
   "metadata": {},
   "outputs": [
    {
     "data": {
      "text/plain": [
       "['Viewport position X',\n",
       " 'Viewport position Y',\n",
       " 'Viewport width',\n",
       " 'Viewport height']"
      ]
     },
     "metadata": {},
     "output_type": "display_data"
    }
   ],
   "source": [
    "viewport_columns = [name for name in participant_columns_tobii if \"View\" in name]\n",
    "display(viewport_columns)"
   ]
  },
  {
   "cell_type": "code",
   "execution_count": null,
   "metadata": {},
   "outputs": [
    {
     "data": {
      "text/html": [
       "<div><style>\n",
       ".dataframe > thead > tr,\n",
       ".dataframe > tbody > tr {\n",
       "  text-align: right;\n",
       "  white-space: pre-wrap;\n",
       "}\n",
       "</style>\n",
       "<small>shape: (1, 4)</small><table border=\"1\" class=\"dataframe\"><thead><tr><th>Viewport position X</th><th>Viewport position Y</th><th>Viewport width</th><th>Viewport height</th></tr><tr><td>str</td><td>str</td><td>str</td><td>str</td></tr></thead><tbody><tr><td>null</td><td>null</td><td>null</td><td>null</td></tr></tbody></table></div>"
      ],
      "text/plain": [
       "shape: (1, 4)\n",
       "┌─────────────────────┬─────────────────────┬────────────────┬─────────────────┐\n",
       "│ Viewport position X ┆ Viewport position Y ┆ Viewport width ┆ Viewport height │\n",
       "│ ---                 ┆ ---                 ┆ ---            ┆ ---             │\n",
       "│ str                 ┆ str                 ┆ str            ┆ str             │\n",
       "╞═════════════════════╪═════════════════════╪════════════════╪═════════════════╡\n",
       "│ null                ┆ null                ┆ null           ┆ null            │\n",
       "└─────────────────────┴─────────────────────┴────────────────┴─────────────────┘"
      ]
     },
     "execution_count": null,
     "metadata": {},
     "output_type": "execute_result"
    }
   ],
   "source": [
    "participant_tsv_ninetails.select(viewport_columns).unique()"
   ]
  },
  {
   "cell_type": "markdown",
   "metadata": {},
   "source": [
    "\n",
    "# Where alignment begins: RealEye Raw Data\n",
    "\n",
    "Per participant, we need the recording start time, and X-Y coordinates, in both RealEye and Tobii"
   ]
  },
  {
   "cell_type": "code",
   "execution_count": null,
   "metadata": {},
   "outputs": [],
   "source": [
    "#| default_exp realeye"
   ]
  },
  {
   "cell_type": "code",
   "execution_count": null,
   "metadata": {},
   "outputs": [
    {
     "data": {
      "text/html": [
       "<div><style>\n",
       ".dataframe > thead > tr,\n",
       ".dataframe > tbody > tr {\n",
       "  text-align: right;\n",
       "  white-space: pre-wrap;\n",
       "}\n",
       "</style>\n",
       "<small>shape: (61_617, 3)</small><table border=\"1\" class=\"dataframe\"><thead><tr><th>Recording start time UTC</th><th>Gaze point X</th><th>Gaze point Y</th></tr><tr><td>str</td><td>str</td><td>str</td></tr></thead><tbody><tr><td>&quot;21:20:24.432&quot;</td><td>null</td><td>null</td></tr><tr><td>&quot;21:20:24.432&quot;</td><td>null</td><td>null</td></tr><tr><td>&quot;21:20:24.432&quot;</td><td>null</td><td>null</td></tr><tr><td>&quot;21:20:24.432&quot;</td><td>null</td><td>null</td></tr><tr><td>&quot;21:20:24.432&quot;</td><td>null</td><td>null</td></tr><tr><td>&hellip;</td><td>&hellip;</td><td>&hellip;</td></tr><tr><td>&quot;21:20:24.432&quot;</td><td>&quot;1833&quot;</td><td>&quot;1012&quot;</td></tr><tr><td>&quot;21:20:24.432&quot;</td><td>&quot;1811&quot;</td><td>&quot;1027&quot;</td></tr><tr><td>&quot;21:20:24.432&quot;</td><td>&quot;1785&quot;</td><td>&quot;1017&quot;</td></tr><tr><td>&quot;21:20:24.432&quot;</td><td>&quot;1798&quot;</td><td>&quot;1029&quot;</td></tr><tr><td>&quot;21:20:24.432&quot;</td><td>null</td><td>null</td></tr></tbody></table></div>"
      ],
      "text/plain": [
       "shape: (61_617, 3)\n",
       "┌──────────────────────────┬──────────────┬──────────────┐\n",
       "│ Recording start time UTC ┆ Gaze point X ┆ Gaze point Y │\n",
       "│ ---                      ┆ ---          ┆ ---          │\n",
       "│ str                      ┆ str          ┆ str          │\n",
       "╞══════════════════════════╪══════════════╪══════════════╡\n",
       "│ 21:20:24.432             ┆ null         ┆ null         │\n",
       "│ 21:20:24.432             ┆ null         ┆ null         │\n",
       "│ 21:20:24.432             ┆ null         ┆ null         │\n",
       "│ 21:20:24.432             ┆ null         ┆ null         │\n",
       "│ 21:20:24.432             ┆ null         ┆ null         │\n",
       "│ …                        ┆ …            ┆ …            │\n",
       "│ 21:20:24.432             ┆ 1833         ┆ 1012         │\n",
       "│ 21:20:24.432             ┆ 1811         ┆ 1027         │\n",
       "│ 21:20:24.432             ┆ 1785         ┆ 1017         │\n",
       "│ 21:20:24.432             ┆ 1798         ┆ 1029         │\n",
       "│ 21:20:24.432             ┆ null         ┆ null         │\n",
       "└──────────────────────────┴──────────────┴──────────────┘"
      ]
     },
     "execution_count": null,
     "metadata": {},
     "output_type": "execute_result"
    }
   ],
   "source": [
    "participant_tsv_ninetails.select([\"Recording start time UTC\", \"Gaze point X\", \"Gaze point Y\"]).filter()"
   ]
  },
  {
   "cell_type": "code",
   "execution_count": null,
   "metadata": {},
   "outputs": [],
   "source": [
    "raw_gaze_csv = pl.read_csv(DATA_ROOT+\"/raw-gazes.csv\")"
   ]
  },
  {
   "cell_type": "code",
   "execution_count": null,
   "metadata": {},
   "outputs": [
    {
     "data": {
      "text/html": [
       "<div><style>\n",
       ".dataframe > thead > tr,\n",
       ".dataframe > tbody > tr {\n",
       "  text-align: right;\n",
       "  white-space: pre-wrap;\n",
       "}\n",
       "</style>\n",
       "<small>shape: (260, 18)</small><table border=\"1\" class=\"dataframe\"><thead><tr><th>participant_id</th><th>participant_external_id</th><th>participant_age</th><th>participant_gender</th><th>participant_display_gender</th><th>participant_tags</th><th>participant_quality_grade</th><th>participant_quality_grade_item</th><th>item_id</th><th>test_id</th><th>test_created_at</th><th>test_duration_ms</th><th>test_browser_width_px</th><th>test_browser_height_px</th><th>test_item_display_order</th><th>exposure_number</th><th>test_raw_data</th><th>notes</th></tr><tr><td>str</td><td>str</td><td>str</td><td>str</td><td>str</td><td>str</td><td>i64</td><td>i64</td><td>str</td><td>str</td><td>str</td><td>i64</td><td>i64</td><td>i64</td><td>i64</td><td>i64</td><td>str</td><td>str</td></tr></thead><tbody><tr><td>&quot;62e1d6db-e570-4194-b792-1fc4ef…</td><td>null</td><td>null</td><td>null</td><td>&quot;unknown&quot;</td><td>null</td><td>5</td><td>6</td><td>&quot;5b8637a5-c1c7-47cc-a1b4-5abe24…</td><td>&quot;67b60e65-dd83-4598-a841-96f639…</td><td>&quot;2025-02-26T20:12:00+00:00&quot;</td><td>1018</td><td>1920</td><td>1080</td><td>1</td><td>1</td><td>&quot;[[973,475,28,0,1588,1079],[917…</td><td>&quot;RealEye v18.24.5; ; TestCriter…</td></tr><tr><td>&quot;a19074f0-818d-42d2-8d29-290429…</td><td>null</td><td>null</td><td>null</td><td>&quot;unknown&quot;</td><td>null</td><td>2</td><td>6</td><td>&quot;5b8637a5-c1c7-47cc-a1b4-5abe24…</td><td>&quot;8787e4f0-d5e4-4980-95d6-12ded7…</td><td>&quot;2025-02-26T21:38:52+00:00&quot;</td><td>1015</td><td>1920</td><td>1080</td><td>1</td><td>1</td><td>&quot;[[902,599,36,0,1484,1077],[938…</td><td>null</td></tr><tr><td>&quot;5f08f1c2-e9f3-4adb-9fb4-a68b3a…</td><td>null</td><td>null</td><td>null</td><td>&quot;unknown&quot;</td><td>null</td><td>5</td><td>5</td><td>&quot;5b8637a5-c1c7-47cc-a1b4-5abe24…</td><td>&quot;73714d62-9d04-4ff8-95f9-dd8507…</td><td>&quot;2024-10-23T18:37:18+00:00&quot;</td><td>1016</td><td>1920</td><td>1028</td><td>1</td><td>1</td><td>&quot;[[1085,721,36,0,1919,593],[102…</td><td>null</td></tr><tr><td>&quot;105a3ff2-f0de-4d4b-adaa-feddee…</td><td>null</td><td>null</td><td>null</td><td>&quot;unknown&quot;</td><td>null</td><td>5</td><td>6</td><td>&quot;5b8637a5-c1c7-47cc-a1b4-5abe24…</td><td>&quot;ea5a6bec-24c2-492d-bbe5-d39a8c…</td><td>&quot;2024-10-23T20:12:28+00:00&quot;</td><td>1021</td><td>1920</td><td>1028</td><td>1</td><td>1</td><td>&quot;[[1054,543,51,0,897,551],[1052…</td><td>null</td></tr><tr><td>&quot;7fdc2add-bd15-4a04-b77b-242e5b…</td><td>null</td><td>null</td><td>null</td><td>&quot;unknown&quot;</td><td>null</td><td>5</td><td>6</td><td>&quot;5b8637a5-c1c7-47cc-a1b4-5abe24…</td><td>&quot;bbd0eaf5-ce47-4b18-90e6-8a641d…</td><td>&quot;2024-10-25T20:53:25+00:00&quot;</td><td>1013</td><td>1920</td><td>1028</td><td>1</td><td>1</td><td>&quot;[[938,648,44,0,1919,400],[982,…</td><td>null</td></tr><tr><td>&hellip;</td><td>&hellip;</td><td>&hellip;</td><td>&hellip;</td><td>&hellip;</td><td>&hellip;</td><td>&hellip;</td><td>&hellip;</td><td>&hellip;</td><td>&hellip;</td><td>&hellip;</td><td>&hellip;</td><td>&hellip;</td><td>&hellip;</td><td>&hellip;</td><td>&hellip;</td><td>&hellip;</td><td>&hellip;</td></tr><tr><td>&quot;96026ba2-fb96-48ee-82b3-b6caae…</td><td>null</td><td>null</td><td>null</td><td>&quot;unknown&quot;</td><td>null</td><td>5</td><td>5</td><td>&quot;b1641c81-54ff-4370-ab32-8476ef…</td><td>&quot;2a44e57f-3799-499b-a2c0-223d76…</td><td>&quot;2025-02-21T20:19:52+00:00&quot;</td><td>60002</td><td>1920</td><td>1080</td><td>8</td><td>1</td><td>&quot;[[864,531,36,0,1691,1079],[649…</td><td>null</td></tr><tr><td>&quot;b9682fc8-11b0-4cac-87f9-ab9a98…</td><td>null</td><td>null</td><td>null</td><td>&quot;unknown&quot;</td><td>null</td><td>5</td><td>4</td><td>&quot;b1641c81-54ff-4370-ab32-8476ef…</td><td>&quot;2b7362ce-c7ec-49ad-8f81-152115…</td><td>&quot;2025-02-19T20:17:11+00:00&quot;</td><td>59993</td><td>1920</td><td>1080</td><td>8</td><td>1</td><td>&quot;[[696,575,37,0,1798,755],[707,…</td><td>null</td></tr><tr><td>&quot;c796da36-e085-4adf-b9ce-9a467d…</td><td>null</td><td>null</td><td>null</td><td>&quot;unknown&quot;</td><td>null</td><td>5</td><td>4</td><td>&quot;b1641c81-54ff-4370-ab32-8476ef…</td><td>&quot;f94f29e7-864c-487a-806c-a6341e…</td><td>&quot;2025-02-19T21:42:02+00:00&quot;</td><td>60024</td><td>1920</td><td>1080</td><td>8</td><td>1</td><td>&quot;[[855,652,35,0,1197,627],[903,…</td><td>null</td></tr><tr><td>&quot;a5e522e6-a61d-470c-bc18-672f4b…</td><td>null</td><td>null</td><td>null</td><td>&quot;unknown&quot;</td><td>null</td><td>5</td><td>5</td><td>&quot;b1641c81-54ff-4370-ab32-8476ef…</td><td>&quot;859e7af4-f45b-47eb-9b13-d45715…</td><td>&quot;2025-03-11T21:28:38+00:00&quot;</td><td>59999</td><td>1920</td><td>1080</td><td>8</td><td>1</td><td>&quot;[[1072,257,32,0,1462,971],[104…</td><td>null</td></tr><tr><td>&quot;ea58875e-7ff1-4db1-934e-ed0396…</td><td>null</td><td>null</td><td>null</td><td>&quot;unknown&quot;</td><td>null</td><td>5</td><td>6</td><td>&quot;b1641c81-54ff-4370-ab32-8476ef…</td><td>&quot;da72baf3-6195-4368-890e-7f77bb…</td><td>&quot;2025-02-20T22:10:50+00:00&quot;</td><td>59997</td><td>1920</td><td>1080</td><td>8</td><td>1</td><td>&quot;[[788,570,36,0,1757,1079],[855…</td><td>null</td></tr></tbody></table></div>"
      ],
      "text/plain": [
       "shape: (260, 18)\n",
       "┌───────────┬───────────┬───────────┬───────────┬───┬───────────┬───────────┬───────────┬──────────┐\n",
       "│ participa ┆ participa ┆ participa ┆ participa ┆ … ┆ test_item ┆ exposure_ ┆ test_raw_ ┆ notes    │\n",
       "│ nt_id     ┆ nt_extern ┆ nt_age    ┆ nt_gender ┆   ┆ _display_ ┆ number    ┆ data      ┆ ---      │\n",
       "│ ---       ┆ al_id     ┆ ---       ┆ ---       ┆   ┆ order     ┆ ---       ┆ ---       ┆ str      │\n",
       "│ str       ┆ ---       ┆ str       ┆ str       ┆   ┆ ---       ┆ i64       ┆ str       ┆          │\n",
       "│           ┆ str       ┆           ┆           ┆   ┆ i64       ┆           ┆           ┆          │\n",
       "╞═══════════╪═══════════╪═══════════╪═══════════╪═══╪═══════════╪═══════════╪═══════════╪══════════╡\n",
       "│ 62e1d6db- ┆ null      ┆ null      ┆ null      ┆ … ┆ 1         ┆ 1         ┆ [[973,475 ┆ RealEye  │\n",
       "│ e570-4194 ┆           ┆           ┆           ┆   ┆           ┆           ┆ ,28,0,158 ┆ v18.24.5 │\n",
       "│ -b792-1fc ┆           ┆           ┆           ┆   ┆           ┆           ┆ 8,1079],[ ┆ ; ; Test │\n",
       "│ 4ef…      ┆           ┆           ┆           ┆   ┆           ┆           ┆ 917…      ┆ Criter…  │\n",
       "│ a19074f0- ┆ null      ┆ null      ┆ null      ┆ … ┆ 1         ┆ 1         ┆ [[902,599 ┆ null     │\n",
       "│ 818d-42d2 ┆           ┆           ┆           ┆   ┆           ┆           ┆ ,36,0,148 ┆          │\n",
       "│ -8d29-290 ┆           ┆           ┆           ┆   ┆           ┆           ┆ 4,1077],[ ┆          │\n",
       "│ 429…      ┆           ┆           ┆           ┆   ┆           ┆           ┆ 938…      ┆          │\n",
       "│ 5f08f1c2- ┆ null      ┆ null      ┆ null      ┆ … ┆ 1         ┆ 1         ┆ [[1085,72 ┆ null     │\n",
       "│ e9f3-4adb ┆           ┆           ┆           ┆   ┆           ┆           ┆ 1,36,0,19 ┆          │\n",
       "│ -9fb4-a68 ┆           ┆           ┆           ┆   ┆           ┆           ┆ 19,593],[ ┆          │\n",
       "│ b3a…      ┆           ┆           ┆           ┆   ┆           ┆           ┆ 102…      ┆          │\n",
       "│ 105a3ff2- ┆ null      ┆ null      ┆ null      ┆ … ┆ 1         ┆ 1         ┆ [[1054,54 ┆ null     │\n",
       "│ f0de-4d4b ┆           ┆           ┆           ┆   ┆           ┆           ┆ 3,51,0,89 ┆          │\n",
       "│ -adaa-fed ┆           ┆           ┆           ┆   ┆           ┆           ┆ 7,551],[1 ┆          │\n",
       "│ dee…      ┆           ┆           ┆           ┆   ┆           ┆           ┆ 052…      ┆          │\n",
       "│ 7fdc2add- ┆ null      ┆ null      ┆ null      ┆ … ┆ 1         ┆ 1         ┆ [[938,648 ┆ null     │\n",
       "│ bd15-4a04 ┆           ┆           ┆           ┆   ┆           ┆           ┆ ,44,0,191 ┆          │\n",
       "│ -b77b-242 ┆           ┆           ┆           ┆   ┆           ┆           ┆ 9,400],[9 ┆          │\n",
       "│ e5b…      ┆           ┆           ┆           ┆   ┆           ┆           ┆ 82,…      ┆          │\n",
       "│ …         ┆ …         ┆ …         ┆ …         ┆ … ┆ …         ┆ …         ┆ …         ┆ …        │\n",
       "│ 96026ba2- ┆ null      ┆ null      ┆ null      ┆ … ┆ 8         ┆ 1         ┆ [[864,531 ┆ null     │\n",
       "│ fb96-48ee ┆           ┆           ┆           ┆   ┆           ┆           ┆ ,36,0,169 ┆          │\n",
       "│ -82b3-b6c ┆           ┆           ┆           ┆   ┆           ┆           ┆ 1,1079],[ ┆          │\n",
       "│ aae…      ┆           ┆           ┆           ┆   ┆           ┆           ┆ 649…      ┆          │\n",
       "│ b9682fc8- ┆ null      ┆ null      ┆ null      ┆ … ┆ 8         ┆ 1         ┆ [[696,575 ┆ null     │\n",
       "│ 11b0-4cac ┆           ┆           ┆           ┆   ┆           ┆           ┆ ,37,0,179 ┆          │\n",
       "│ -87f9-ab9 ┆           ┆           ┆           ┆   ┆           ┆           ┆ 8,755],[7 ┆          │\n",
       "│ a98…      ┆           ┆           ┆           ┆   ┆           ┆           ┆ 07,…      ┆          │\n",
       "│ c796da36- ┆ null      ┆ null      ┆ null      ┆ … ┆ 8         ┆ 1         ┆ [[855,652 ┆ null     │\n",
       "│ e085-4adf ┆           ┆           ┆           ┆   ┆           ┆           ┆ ,35,0,119 ┆          │\n",
       "│ -b9ce-9a4 ┆           ┆           ┆           ┆   ┆           ┆           ┆ 7,627],[9 ┆          │\n",
       "│ 67d…      ┆           ┆           ┆           ┆   ┆           ┆           ┆ 03,…      ┆          │\n",
       "│ a5e522e6- ┆ null      ┆ null      ┆ null      ┆ … ┆ 8         ┆ 1         ┆ [[1072,25 ┆ null     │\n",
       "│ a61d-470c ┆           ┆           ┆           ┆   ┆           ┆           ┆ 7,32,0,14 ┆          │\n",
       "│ -bc18-672 ┆           ┆           ┆           ┆   ┆           ┆           ┆ 62,971],[ ┆          │\n",
       "│ f4b…      ┆           ┆           ┆           ┆   ┆           ┆           ┆ 104…      ┆          │\n",
       "│ ea58875e- ┆ null      ┆ null      ┆ null      ┆ … ┆ 8         ┆ 1         ┆ [[788,570 ┆ null     │\n",
       "│ 7ff1-4db1 ┆           ┆           ┆           ┆   ┆           ┆           ┆ ,36,0,175 ┆          │\n",
       "│ -934e-ed0 ┆           ┆           ┆           ┆   ┆           ┆           ┆ 7,1079],[ ┆          │\n",
       "│ 396…      ┆           ┆           ┆           ┆   ┆           ┆           ┆ 855…      ┆          │\n",
       "└───────────┴───────────┴───────────┴───────────┴───┴───────────┴───────────┴───────────┴──────────┘"
      ]
     },
     "execution_count": null,
     "metadata": {},
     "output_type": "execute_result"
    }
   ],
   "source": [
    "raw_gaze_csv"
   ]
  },
  {
   "cell_type": "code",
   "execution_count": null,
   "metadata": {},
   "outputs": [],
   "source": [
    "import json5\n",
    "\n",
    "def parse_lists(list_text:str) -> list[int|float]:\n",
    "    return json5.loads(list_text)\n",
    "\n",
    "assert parse_lists(\"['This is a list element', [12, 12, 12]]\") == [\"This is a list element\", [12, 12, 12]]"
   ]
  },
  {
   "cell_type": "code",
   "execution_count": null,
   "metadata": {},
   "outputs": [
    {
     "name": "stdout",
     "output_type": "stream",
     "text": [
      "RealEye v18.24.5\n",
      " \n",
      " TestCriteria [\n",
      "isGenderMale=true\n",
      "isGenderFemale=true\n",
      "isGenderOther=true\n",
      "isGenderNotSpecified=true\n",
      "exposureNumber=\n",
      "qualityMin=1\n",
      "qualityMax=6\n",
      "isParticipantTypeRealEye=true\n",
      "isParticipantTypeNonRealEye=true\n",
      "isDeviceDesktop=true\n",
      "isDeviceSmartphone=true\n",
      "isDeviceTablet=true\n",
      "isSetupLocal=true\n",
      "isSetupMouse=true\n",
      "isSetupOpengaze=true]\n",
      " participantQualityGradeItemMin=1\n",
      " 2025-03-11T22:22:26+00:00\n"
     ]
    }
   ],
   "source": [
    "def extract_RealEye_note(df: pl.DataFrame) -> str:\n",
    "    note_text: str = df.select(\"notes\").to_dict(as_series=False)[\"notes\"][0]\n",
    "    return \"\\n\".join(note_text.split(';'))\n",
    "\n",
    "print(extract_RealEye_note(raw_gaze_csv))"
   ]
  },
  {
   "cell_type": "code",
   "execution_count": null,
   "metadata": {},
   "outputs": [],
   "source": [
    "#| export\n",
    "from json import loads as load_json_str\n",
    "from typing import Any, Iterable\n",
    "\n",
    "def parse_list(text: str, start_index: int) -> tuple[int, list]:\n",
    "    \"parse a list out of the text, returning a tuple of (index after the list, the list)\"\n",
    "    ends = [(\"[\", start_index)]\n",
    "    ind = start_index + 1\n",
    "    while ends:\n",
    "        match text[ind]:\n",
    "            case \"\\\"\": ends.append('\"')\n",
    "            case \"'\": ends.append('\"')\n",
    "            case \"[\": ends.append(\"[\")\n",
    "            case \"{\": ends.append(\"{\")\n",
    "            case _: None\n",
    "\n",
    "def iter_parse_raw_data(raw_data: str) -> Iterable[Any]:\n",
    "    def test_numbers_str_invariant(numbers: str):\n",
    "        if not isinstance(numbers, str):\n",
    "            raise TypeError(\"Numbers string should be a str\")\n",
    "        if not numbers:\n",
    "            raise ValueError(f\"Receive {numbers} for argument 'numbers', excepted value\")\n",
    "        if \",\" not in numbers:\n",
    "            raise IndexError(f\"Could not find comma in list argument {numbers}\")\n",
    "    \n",
    "    def numbers_string_to_list(numbers: str) -> list[int|float]:\n",
    "        return [\n",
    "            num_int if (num_int := int(num_str)) == (num_f := float(num_str)) else num_f\n",
    "            for num_str in numbers.split(\",\")\n",
    "        ]\n",
    "\n",
    "    # assuming a list of lists,\n",
    "    # convert from \"[[...],[...],[...],[...]]\" -> \"...],[...],[...],[...\"\n",
    "    text_data_of_listlists = raw_data[2:-2].replace(\" \", \"\") # delete whitespace\n",
    "    # to ease the algorithm to follow\n",
    "    CONST_SPLIT_TARGET = \"],[\"\n",
    "    (numbers, rest) = split_res = text_data_of_listlists.split(CONST_SPLIT_TARGET, maxsplit=1) # one at a time.\n",
    "    \n",
    "    while split_res:\n",
    "        test_numbers_str_invariant(numbers)\n",
    "        yield numbers_string_to_list(numbers)\n",
    "\n",
    "        split_res = rest.split(CONST_SPLIT_TARGET, maxsplit=1) # one at a time.\n",
    "        match split_res:\n",
    "            case [_, _]:\n",
    "                # iterate again\n",
    "                # print(f\"Iterate: {numbers = }\")\n",
    "                (numbers, rest) = split_res\n",
    "            case [numbers,]: \n",
    "                # final iteration, yield the last list\n",
    "                # print(f\"Final: {numbers = }\")\n",
    "                yield numbers_string_to_list(numbers)\n",
    "                split_res = None # terminate loop condition\n",
    "            case _:\n",
    "                raise ValueError(f\"Should be unreachable state: {split_res = }\")"
   ]
  },
  {
   "cell_type": "code",
   "execution_count": null,
   "metadata": {},
   "outputs": [],
   "source": [
    "def test_iterative_parse():\n",
    "    items = '[[1, 2, 3, 4, 5, 13, 14],[14, 13, 5, 4, 3, 2, 1], [5, 13, 14]]'\n",
    "    results = list(iter_parse_raw_data(items))\n",
    "    assert (results == [\n",
    "        [1, 2, 3, 4, 5, 13, 14],\n",
    "        [14, 13, 5, 4, 3, 2, 1],\n",
    "        [5, 13, 14]\n",
    "    ]), \"failed to parse correctly\"\n",
    "test_iterative_parse()\n",
    "\n",
    "def test_parse_list():\n",
    "    import json5\n",
    "    items = '[1, 2, 3, 4, 5]'\n",
    "    items = '[\"12\", \"12\", \"13\", \"14\"]'\n",
    "    items = json5.dumps(dict(abra=20, kabara=\"Shoe horn\", alakazam={\"12\": [\"five\", 6, 7.0]}))\n",
    "\n",
    "test_parse_list()"
   ]
  },
  {
   "cell_type": "code",
   "execution_count": null,
   "metadata": {},
   "outputs": [],
   "source": [
    "raw_csv_as_dict_list = raw_gaze_csv.to_dicts()"
   ]
  },
  {
   "cell_type": "markdown",
   "metadata": {},
   "source": [
    "**Keep me**: [RealEye Documentation](https://support.realeye.io/data-export-to-csv)"
   ]
  },
  {
   "cell_type": "code",
   "execution_count": null,
   "metadata": {},
   "outputs": [
    {
     "data": {
      "text/plain": [
       "(260, 260)"
      ]
     },
     "execution_count": null,
     "metadata": {},
     "output_type": "execute_result"
    }
   ],
   "source": [
    "len(raw_csv_as_dict_list), len(raw_csv_as_dict_list)"
   ]
  },
  {
   "cell_type": "code",
   "execution_count": null,
   "metadata": {},
   "outputs": [
    {
     "data": {
      "text/plain": [
       "{'participant_id': '62e1d6db-e570-4194-b792-1fc4ef589aff',\n",
       " 'participant_external_id': None,\n",
       " 'participant_age': None,\n",
       " 'participant_gender': None,\n",
       " 'participant_display_gender': 'unknown',\n",
       " 'participant_tags': None,\n",
       " 'participant_quality_grade': 5,\n",
       " 'participant_quality_grade_item': 6,\n",
       " 'item_id': '5b8637a5-c1c7-47cc-a1b4-5abe24c5b5aa',\n",
       " 'test_id': '67b60e65-dd83-4598-a841-96f63963e0ac',\n",
       " 'test_created_at': '2025-02-26T20:12:00+00:00',\n",
       " 'test_duration_ms': 1018,\n",
       " 'test_browser_width_px': 1920,\n",
       " 'test_browser_height_px': 1080,\n",
       " 'test_item_display_order': 1,\n",
       " 'exposure_number': 1,\n",
       " 'test_raw_data': '[[973,475,28,0,1588,1079],[917,534,89,0,1588,1079],[921,520,103,0,1588,1079],[1021,484,130,0,1588,1079],[957,623,171,0,1588,1079],[971,612,210,0,1588,1079],[867,557,241,0,1588,1079],[1001,641,269,0,1588,1079],[888,537,303,0,1588,1079],[884,545,329,0,1588,1079],[859,530,369,0,1588,1079],[859,530,404,0,1588,1079],[1000,636,426,0,1588,1079],[1001,611,463,0,1588,1079],[1019,603,489,0,1588,1079],[837,540,524,0,1588,1079],[976,572,556,0,1588,1079],[963,603,587,0,1588,1079],[828,504,616,0,1588,1079],[998,564,654,0,1588,1079],[954,550,687,0,1588,1079],[953,600,715,0,1588,1079],[941,549,747,0,1588,1079],[955,577,783,0,1588,1079],[905,580,816,0,1588,1079],[898,569,854,0,1588,1079],[902,593,889,0,1588,1079],[917,546,920,0,1588,1079],[961,538,955,0,1588,1079],[988,576,983,0,1588,1079],[925,672,1018,0,1588,1079]]',\n",
       " 'notes': 'RealEye v18.24.5; ; TestCriteria [;isGenderMale=true;isGenderFemale=true;isGenderOther=true;isGenderNotSpecified=true;exposureNumber=;qualityMin=1;qualityMax=6;isParticipantTypeRealEye=true;isParticipantTypeNonRealEye=true;isDeviceDesktop=true;isDeviceSmartphone=true;isDeviceTablet=true;isSetupLocal=true;isSetupMouse=true;isSetupOpengaze=true]; participantQualityGradeItemMin=1; 2025-03-11T22:22:26+00:00'}"
      ]
     },
     "execution_count": null,
     "metadata": {},
     "output_type": "execute_result"
    }
   ],
   "source": [
    "raw_csv_as_dict_list[0]"
   ]
  },
  {
   "cell_type": "markdown",
   "metadata": {},
   "source": [
    "## Working with RealEye Data"
   ]
  },
  {
   "cell_type": "markdown",
   "metadata": {},
   "source": [
    "Manually finding statistics about these 6-tuples.\n",
    "\n",
    "```python\n",
    "class GazeInfo: # what RealEye gives us, in their documentation (that Stephen should have read)\n",
    "    int gazeInfo[0] - gaze point position on the screen (X-axis pixels from top-left corner). NOTE: It could be less than 0 or more than test_browser_width. The participant could be looking out of the screen.\n",
    "    int gazeInfo[1] - gaze point position on the screen (Y-axis pixels from top-left corner). NOTE: It could be less than 0 or more than test_browser_height. The participant could be looking out of the screen.\n",
    "    int gazeInfo[2] - time in ms since the beginning of the test.\n",
    "    float gazeInfo[3] - Y scroll offset in pixels (in case the participant was using the scroll).\n",
    "    float gazeInfo[4] - X position of mouse cursor in pixels (from top-left corner).\n",
    "    float gazeInfo[5] - Y position of mouse cursor in pixels (from top-left corner).\n",
    "    boolean|undefined gazeInfo[6] - indicating if the participant has clicked at that time; if not clicked then this data is not included.\n",
    "```"
   ]
  },
  {
   "cell_type": "code",
   "execution_count": null,
   "metadata": {},
   "outputs": [],
   "source": [
    "#| export\n",
    "from dataclasses import dataclass\n",
    "\n",
    "@dataclass\n",
    "class GazeInfo:\n",
    "    \"\"\"GazeInfo object from RealEye, with\n",
    "    - \"gaze point\" being a coordinate pair of where the participant's eyes were looking.\n",
    "    - \"mouse pos\" coordinate pair\n",
    "    \"\"\"\n",
    "    gaze_point_X: int\n",
    "    gaze_point_Y: int\n",
    "    time_ms_since_start: int\n",
    "    scroll_offset_Y: float # scoll offset if you scrolled the screen\n",
    "    mouse_pos_X: float\n",
    "    mouse_pos_Y: float"
   ]
  },
  {
   "cell_type": "code",
   "execution_count": null,
   "metadata": {},
   "outputs": [
    {
     "name": "stdout",
     "output_type": "stream",
     "text": [
      "Counter({6: 31})\n",
      "Distribution of counter sizes Counter({1: 259, 2: 1})\n",
      "(84, Counter({6: 1867, 7: 1}))\n",
      "{('test_created_at', '2025-02-27T23:45:44+00:00'), ('test_item_display_order', 4), ('test_duration_ms', 60009), ('test_browser_height_px', 1080), ('participant_gender', None), ('notes', None), ('item_id', 'd4bdad0c-13ae-4276-b1f4-007c2ad7a495'), ('participant_external_id', None), ('participant_quality_grade', 5), ('exposure_number', 1), ('test_id', '36481f21-27fa-4866-9627-83768dbc180c'), ('participant_quality_grade_item', 5), ('participant_age', None), ('participant_display_gender', 'unknown'), ('test_browser_width_px', 1920), ('participant_tags', None), ('participant_id', 'e3449b0c-9d22-4eb2-9cd6-52cc8a66bcc8')}\n"
     ]
    }
   ],
   "source": [
    "def test_iteration_of_tuples():\n",
    "    from collections import Counter\n",
    "\n",
    "    data_stream = iter_parse_raw_data(raw_csv_as_dict_list[0][\"test_raw_data\"])\n",
    "    tuple_sizes = Counter(map(lambda tup: len(tup), data_stream))\n",
    "    print(tuple_sizes)\n",
    "    counters = [None] * len(raw_csv_as_dict_list)\n",
    "    for i, raw_data_str in enumerate(\n",
    "        map(lambda d: d[\"test_raw_data\"], raw_csv_as_dict_list)\n",
    "    ):\n",
    "        item_tuple_sizes = Counter(\n",
    "            map(lambda tup: len(tup), iter_parse_raw_data(raw_data_str))\n",
    "        )\n",
    "        counters[i] = item_tuple_sizes\n",
    "\n",
    "    size_histogram = Counter(len(sizes) for sizes in counters)\n",
    "    print(\"Distribution of counter sizes\", size_histogram)\n",
    "    outlier = list(\n",
    "        filter(lambda i_counter: len(i_counter[1]) == 2, enumerate(counters))\n",
    "    )\n",
    "    outlier = outlier[0] or None  # free the memory.\n",
    "    if outlier:\n",
    "        print(outlier)\n",
    "        record_with_weird_counts = raw_csv_as_dict_list[outlier[0]]\n",
    "        print(\n",
    "            {(k, record_with_weird_counts[k]) for k,v in record_with_weird_counts.items() if k != \"test_raw_data\"}\n",
    "        )\n"
   ]
  },
  {
   "cell_type": "code",
   "execution_count": null,
   "metadata": {},
   "outputs": [],
   "source": [
    "\n",
    "test_iteration_of_tuples()"
   ]
  },
  {
   "cell_type": "markdown",
   "metadata": {},
   "source": [
    "### Summary statistics"
   ]
  },
  {
   "cell_type": "code",
   "execution_count": null,
   "metadata": {},
   "outputs": [],
   "source": [
    "#| export\n",
    "from functools import reduce\n",
    "from typing import NamedTuple\n",
    "\n",
    "class Iterated:\n",
    "    @staticmethod\n",
    "    def _reduce_helper_sum_and_count(init, arg):\n",
    "        \"Reducer for enumerated iterable of summable values\"\n",
    "        return (arg[0], arg[1] + init[1])\n",
    "\n",
    "    @staticmethod\n",
    "    def mean(iterable: Iterable[int|float]) -> float:\n",
    "        count, s_ = reduce(Iterated._reduce_helper_sum_and_count, enumerate(iterable), (0, 0))\n",
    "        return s_ / count if count else 0\n",
    "\n",
    "    @staticmethod\n",
    "    def resettable_iter_raw(raw_gazes: dict[str, str]):\n",
    "        class Resettable(NamedTuple):\n",
    "            it: Iterable\n",
    "            def iter(self) -> Iterable[tuple[int, int, int, float, float, float]]:\n",
    "                return iter_parse_raw_data(self.it)\n",
    "\n",
    "        return Resettable(raw_gazes)\n"
   ]
  },
  {
   "cell_type": "code",
   "execution_count": null,
   "metadata": {},
   "outputs": [
    {
     "data": {
      "text/plain": [
       "{'participant_id': '62e1d6db-e570-4194-b792-1fc4ef589aff',\n",
       " 'participant_external_id': None,\n",
       " 'participant_age': None,\n",
       " 'participant_gender': None,\n",
       " 'participant_display_gender': 'unknown',\n",
       " 'participant_tags': None,\n",
       " 'participant_quality_grade': 5,\n",
       " 'participant_quality_grade_item': 6,\n",
       " 'item_id': '5b8637a5-c1c7-47cc-a1b4-5abe24c5b5aa',\n",
       " 'test_id': '67b60e65-dd83-4598-a841-96f63963e0ac',\n",
       " 'test_created_at': '2025-02-26T20:12:00+00:00',\n",
       " 'test_duration_ms': 1018,\n",
       " 'test_browser_width_px': 1920,\n",
       " 'test_browser_height_px': 1080,\n",
       " 'test_item_display_order': 1,\n",
       " 'exposure_number': 1,\n",
       " 'test_raw_data': '[[973,475,28,0,1588,1079],[917,534,89,0,1588,1079],[921,520,103,0,1588,1079],[1021,484,130,0,1588,1079],[957,623,171,0,1588,1079],[971,612,210,0,1588,1079],[867,557,241,0,1588,1079],[1001,641,269,0,1588,1079],[888,537,303,0,1588,1079],[884,545,329,0,1588,1079],[859,530,369,0,1588,1079],[859,530,404,0,1588,1079],[1000,636,426,0,1588,1079],[1001,611,463,0,1588,1079],[1019,603,489,0,1588,1079],[837,540,524,0,1588,1079],[976,572,556,0,1588,1079],[963,603,587,0,1588,1079],[828,504,616,0,1588,1079],[998,564,654,0,1588,1079],[954,550,687,0,1588,1079],[953,600,715,0,1588,1079],[941,549,747,0,1588,1079],[955,577,783,0,1588,1079],[905,580,816,0,1588,1079],[898,569,854,0,1588,1079],[902,593,889,0,1588,1079],[917,546,920,0,1588,1079],[961,538,955,0,1588,1079],[988,576,983,0,1588,1079],[925,672,1018,0,1588,1079]]',\n",
       " 'notes': 'RealEye v18.24.5; ; TestCriteria [;isGenderMale=true;isGenderFemale=true;isGenderOther=true;isGenderNotSpecified=true;exposureNumber=;qualityMin=1;qualityMax=6;isParticipantTypeRealEye=true;isParticipantTypeNonRealEye=true;isDeviceDesktop=true;isDeviceSmartphone=true;isDeviceTablet=true;isSetupLocal=true;isSetupMouse=true;isSetupOpengaze=true]; participantQualityGradeItemMin=1; 2025-03-11T22:22:26+00:00'}"
      ]
     },
     "execution_count": null,
     "metadata": {},
     "output_type": "execute_result"
    }
   ],
   "source": [
    "raw_csv_as_dict_list[0]"
   ]
  },
  {
   "cell_type": "code",
   "execution_count": null,
   "metadata": {},
   "outputs": [],
   "source": [
    "def find_descriptive_stats(\n",
    "    direct_copy_keys: list[str] = [\n",
    "        \"test_created_at\",\n",
    "        \"test_duration_ms\",\n",
    "        \"test_browser_width_px\",\n",
    "        \"test_browser_height_px\",\n",
    "    ]\n",
    "):\n",
    "    my_iters = [\n",
    "        (Iterated.resettable_iter_raw(raw_i[\"test_raw_data\"]), {k: raw_i[k] for k in direct_copy_keys})\n",
    "        for raw_i in raw_csv_as_dict_list\n",
    "    ]\n",
    "    calculated = [\n",
    "        {\n",
    "            \"X_max\": max(tup[0] for tup in my_iter.iter()),\n",
    "            \"X_max\": max(tup[0] for tup in my_iter.iter()),\n",
    "            \"X_min\": min(tup[0] for tup in my_iter.iter()),\n",
    "            \"X_mean\": Iterated.mean(tup[0] for tup in my_iter.iter()),\n",
    "            \"Y_max\": max(tup[1] for tup in my_iter.iter()),\n",
    "            \"Y_max\": max(tup[1] for tup in my_iter.iter()),\n",
    "            \"Y_min\": min(tup[1] for tup in my_iter.iter()),\n",
    "            \"Y_mean\": Iterated.mean(tup[1] for tup in my_iter.iter()),\n",
    "        } | value_dict\n",
    "        for (my_iter, value_dict) in my_iters\n",
    "    ]\n",
    "    return calculated\n",
    "\n",
    "\n",
    "all_rows_descriptive_stats = find_descriptive_stats()"
   ]
  },
  {
   "cell_type": "code",
   "execution_count": null,
   "metadata": {},
   "outputs": [
    {
     "data": {
      "text/html": [
       "<div><style>\n",
       ".dataframe > thead > tr,\n",
       ".dataframe > tbody > tr {\n",
       "  text-align: right;\n",
       "  white-space: pre-wrap;\n",
       "}\n",
       "</style>\n",
       "<small>shape: (260, 10)</small><table border=\"1\" class=\"dataframe\"><thead><tr><th>X_max</th><th>X_min</th><th>X_mean</th><th>Y_max</th><th>Y_min</th><th>Y_mean</th><th>test_created_at</th><th>test_duration_ms</th><th>test_browser_width_px</th><th>test_browser_height_px</th></tr><tr><td>i64</td><td>i64</td><td>f64</td><td>i64</td><td>i64</td><td>f64</td><td>str</td><td>i64</td><td>i64</td><td>i64</td></tr></thead><tbody><tr><td>1021</td><td>828</td><td>967.966667</td><td>672</td><td>475</td><td>585.7</td><td>&quot;2025-02-26T20:12:00+00:00&quot;</td><td>1018</td><td>1920</td><td>1080</td></tr><tr><td>1059</td><td>892</td><td>1031.333333</td><td>691</td><td>584</td><td>647.8</td><td>&quot;2025-02-26T21:38:52+00:00&quot;</td><td>1015</td><td>1920</td><td>1080</td></tr><tr><td>1393</td><td>829</td><td>1113.354839</td><td>1060</td><td>721</td><td>950.16129</td><td>&quot;2024-10-23T18:37:18+00:00&quot;</td><td>1016</td><td>1920</td><td>1028</td></tr><tr><td>1133</td><td>931</td><td>1087.551724</td><td>632</td><td>491</td><td>592.758621</td><td>&quot;2024-10-23T20:12:28+00:00&quot;</td><td>1021</td><td>1920</td><td>1028</td></tr><tr><td>1117</td><td>853</td><td>1018.566667</td><td>705</td><td>497</td><td>614.666667</td><td>&quot;2024-10-25T20:53:25+00:00&quot;</td><td>1013</td><td>1920</td><td>1028</td></tr><tr><td>&hellip;</td><td>&hellip;</td><td>&hellip;</td><td>&hellip;</td><td>&hellip;</td><td>&hellip;</td><td>&hellip;</td><td>&hellip;</td><td>&hellip;</td><td>&hellip;</td></tr><tr><td>1865</td><td>-560</td><td>747.003198</td><td>1263</td><td>-293</td><td>457.246802</td><td>&quot;2025-02-21T20:19:52+00:00&quot;</td><td>60002</td><td>1920</td><td>1080</td></tr><tr><td>2120</td><td>151</td><td>1225.4352</td><td>1455</td><td>-22</td><td>638.1584</td><td>&quot;2025-02-19T20:17:11+00:00&quot;</td><td>59993</td><td>1920</td><td>1080</td></tr><tr><td>2459</td><td>-603</td><td>982.142246</td><td>1326</td><td>-1996</td><td>357.304813</td><td>&quot;2025-02-19T21:42:02+00:00&quot;</td><td>60024</td><td>1920</td><td>1080</td></tr><tr><td>2306</td><td>-327</td><td>1128.842133</td><td>1420</td><td>-302</td><td>295.035733</td><td>&quot;2025-03-11T21:28:38+00:00&quot;</td><td>59999</td><td>1920</td><td>1080</td></tr><tr><td>1954</td><td>-314</td><td>964.86688</td><td>1131</td><td>-97</td><td>615.109159</td><td>&quot;2025-02-20T22:10:50+00:00&quot;</td><td>59997</td><td>1920</td><td>1080</td></tr></tbody></table></div>"
      ],
      "text/plain": [
       "shape: (260, 10)\n",
       "┌───────┬───────┬─────────────┬───────┬───┬──────────────┬─────────────┬─────────────┬─────────────┐\n",
       "│ X_max ┆ X_min ┆ X_mean      ┆ Y_max ┆ … ┆ test_created ┆ test_durati ┆ test_browse ┆ test_browse │\n",
       "│ ---   ┆ ---   ┆ ---         ┆ ---   ┆   ┆ _at          ┆ on_ms       ┆ r_width_px  ┆ r_height_px │\n",
       "│ i64   ┆ i64   ┆ f64         ┆ i64   ┆   ┆ ---          ┆ ---         ┆ ---         ┆ ---         │\n",
       "│       ┆       ┆             ┆       ┆   ┆ str          ┆ i64         ┆ i64         ┆ i64         │\n",
       "╞═══════╪═══════╪═════════════╪═══════╪═══╪══════════════╪═════════════╪═════════════╪═════════════╡\n",
       "│ 1021  ┆ 828   ┆ 967.966667  ┆ 672   ┆ … ┆ 2025-02-26T2 ┆ 1018        ┆ 1920        ┆ 1080        │\n",
       "│       ┆       ┆             ┆       ┆   ┆ 0:12:00+00:0 ┆             ┆             ┆             │\n",
       "│       ┆       ┆             ┆       ┆   ┆ 0            ┆             ┆             ┆             │\n",
       "│ 1059  ┆ 892   ┆ 1031.333333 ┆ 691   ┆ … ┆ 2025-02-26T2 ┆ 1015        ┆ 1920        ┆ 1080        │\n",
       "│       ┆       ┆             ┆       ┆   ┆ 1:38:52+00:0 ┆             ┆             ┆             │\n",
       "│       ┆       ┆             ┆       ┆   ┆ 0            ┆             ┆             ┆             │\n",
       "│ 1393  ┆ 829   ┆ 1113.354839 ┆ 1060  ┆ … ┆ 2024-10-23T1 ┆ 1016        ┆ 1920        ┆ 1028        │\n",
       "│       ┆       ┆             ┆       ┆   ┆ 8:37:18+00:0 ┆             ┆             ┆             │\n",
       "│       ┆       ┆             ┆       ┆   ┆ 0            ┆             ┆             ┆             │\n",
       "│ 1133  ┆ 931   ┆ 1087.551724 ┆ 632   ┆ … ┆ 2024-10-23T2 ┆ 1021        ┆ 1920        ┆ 1028        │\n",
       "│       ┆       ┆             ┆       ┆   ┆ 0:12:28+00:0 ┆             ┆             ┆             │\n",
       "│       ┆       ┆             ┆       ┆   ┆ 0            ┆             ┆             ┆             │\n",
       "│ 1117  ┆ 853   ┆ 1018.566667 ┆ 705   ┆ … ┆ 2024-10-25T2 ┆ 1013        ┆ 1920        ┆ 1028        │\n",
       "│       ┆       ┆             ┆       ┆   ┆ 0:53:25+00:0 ┆             ┆             ┆             │\n",
       "│       ┆       ┆             ┆       ┆   ┆ 0            ┆             ┆             ┆             │\n",
       "│ …     ┆ …     ┆ …           ┆ …     ┆ … ┆ …            ┆ …           ┆ …           ┆ …           │\n",
       "│ 1865  ┆ -560  ┆ 747.003198  ┆ 1263  ┆ … ┆ 2025-02-21T2 ┆ 60002       ┆ 1920        ┆ 1080        │\n",
       "│       ┆       ┆             ┆       ┆   ┆ 0:19:52+00:0 ┆             ┆             ┆             │\n",
       "│       ┆       ┆             ┆       ┆   ┆ 0            ┆             ┆             ┆             │\n",
       "│ 2120  ┆ 151   ┆ 1225.4352   ┆ 1455  ┆ … ┆ 2025-02-19T2 ┆ 59993       ┆ 1920        ┆ 1080        │\n",
       "│       ┆       ┆             ┆       ┆   ┆ 0:17:11+00:0 ┆             ┆             ┆             │\n",
       "│       ┆       ┆             ┆       ┆   ┆ 0            ┆             ┆             ┆             │\n",
       "│ 2459  ┆ -603  ┆ 982.142246  ┆ 1326  ┆ … ┆ 2025-02-19T2 ┆ 60024       ┆ 1920        ┆ 1080        │\n",
       "│       ┆       ┆             ┆       ┆   ┆ 1:42:02+00:0 ┆             ┆             ┆             │\n",
       "│       ┆       ┆             ┆       ┆   ┆ 0            ┆             ┆             ┆             │\n",
       "│ 2306  ┆ -327  ┆ 1128.842133 ┆ 1420  ┆ … ┆ 2025-03-11T2 ┆ 59999       ┆ 1920        ┆ 1080        │\n",
       "│       ┆       ┆             ┆       ┆   ┆ 1:28:38+00:0 ┆             ┆             ┆             │\n",
       "│       ┆       ┆             ┆       ┆   ┆ 0            ┆             ┆             ┆             │\n",
       "│ 1954  ┆ -314  ┆ 964.86688   ┆ 1131  ┆ … ┆ 2025-02-20T2 ┆ 59997       ┆ 1920        ┆ 1080        │\n",
       "│       ┆       ┆             ┆       ┆   ┆ 2:10:50+00:0 ┆             ┆             ┆             │\n",
       "│       ┆       ┆             ┆       ┆   ┆ 0            ┆             ┆             ┆             │\n",
       "└───────┴───────┴─────────────┴───────┴───┴──────────────┴─────────────┴─────────────┴─────────────┘"
      ]
     },
     "execution_count": null,
     "metadata": {},
     "output_type": "execute_result"
    }
   ],
   "source": [
    "pl.DataFrame(all_rows_descriptive_stats)"
   ]
  },
  {
   "cell_type": "code",
   "execution_count": null,
   "metadata": {},
   "outputs": [
    {
     "data": {
      "text/html": [
       "<div><style>\n",
       ".dataframe > thead > tr,\n",
       ".dataframe > tbody > tr {\n",
       "  text-align: right;\n",
       "  white-space: pre-wrap;\n",
       "}\n",
       "</style>\n",
       "<small>shape: (55_501, 29)</small><table border=\"1\" class=\"dataframe\"><thead><tr><th>Recording timestamp</th><th>Recording name</th><th>Recording date</th><th>Recording date UTC</th><th>Recording start time</th><th>Recording start time UTC</th><th>Recording duration</th><th>Recording Fixation filter name</th><th>Recording software version</th><th>Recording resolution height</th><th>Recording resolution width</th><th>Recording monitor latency</th><th>Gaze point X</th><th>Gaze point Y</th><th>Gaze point left X</th><th>Gaze point left Y</th><th>Gaze point right X</th><th>Gaze point right Y</th><th>Gaze point left X (DACSmm)</th><th>Gaze point left Y (DACSmm)</th><th>Gaze point right X (DACSmm)</th><th>Gaze point right Y (DACSmm)</th><th>Gaze point X (MCSnorm)</th><th>Gaze point Y (MCSnorm)</th><th>Gaze point left X (MCSnorm)</th><th>Gaze point left Y (MCSnorm)</th><th>Gaze point right X (MCSnorm)</th><th>Gaze point right Y (MCSnorm)</th><th>Gaze event duration</th></tr><tr><td>i64</td><td>str</td><td>str</td><td>str</td><td>str</td><td>str</td><td>i64</td><td>str</td><td>str</td><td>i64</td><td>i64</td><td>f64</td><td>str</td><td>str</td><td>str</td><td>str</td><td>str</td><td>str</td><td>str</td><td>str</td><td>str</td><td>str</td><td>str</td><td>str</td><td>str</td><td>str</td><td>str</td><td>str</td><td>i64</td></tr></thead><tbody><tr><td>1250297</td><td>&quot;2025-03-11_Ninetails&quot;</td><td>&quot;03/11/2025&quot;</td><td>&quot;03/11/2025&quot;</td><td>&quot;17:20:24.432&quot;</td><td>&quot;21:20:24.432&quot;</td><td>505318</td><td>&quot;Tobii I-VT (Fixation)&quot;</td><td>&quot;1.241.54219&quot;</td><td>1080</td><td>1920</td><td>10.0</td><td>&quot;1008&quot;</td><td>&quot;1304&quot;</td><td>&quot;1008&quot;</td><td>&quot;1304&quot;</td><td>null</td><td>null</td><td>&quot;313.8&quot;</td><td>&quot;406.2&quot;</td><td>null</td><td>null</td><td>null</td><td>null</td><td>null</td><td>null</td><td>null</td><td>null</td><td>17</td></tr><tr><td>1258628</td><td>&quot;2025-03-11_Ninetails&quot;</td><td>&quot;03/11/2025&quot;</td><td>&quot;03/11/2025&quot;</td><td>&quot;17:20:24.432&quot;</td><td>&quot;21:20:24.432&quot;</td><td>505318</td><td>&quot;Tobii I-VT (Fixation)&quot;</td><td>&quot;1.241.54219&quot;</td><td>1080</td><td>1920</td><td>10.0</td><td>&quot;891&quot;</td><td>&quot;1064&quot;</td><td>&quot;832&quot;</td><td>&quot;1046&quot;</td><td>&quot;949&quot;</td><td>&quot;1082&quot;</td><td>&quot;259.3&quot;</td><td>&quot;325.8&quot;</td><td>&quot;295.5&quot;</td><td>&quot;337.1&quot;</td><td>null</td><td>null</td><td>null</td><td>null</td><td>null</td><td>null</td><td>17</td></tr><tr><td>1275294</td><td>&quot;2025-03-11_Ninetails&quot;</td><td>&quot;03/11/2025&quot;</td><td>&quot;03/11/2025&quot;</td><td>&quot;17:20:24.432&quot;</td><td>&quot;21:20:24.432&quot;</td><td>505318</td><td>&quot;Tobii I-VT (Fixation)&quot;</td><td>&quot;1.241.54219&quot;</td><td>1080</td><td>1920</td><td>10.0</td><td>&quot;644&quot;</td><td>&quot;813&quot;</td><td>&quot;645&quot;</td><td>&quot;767&quot;</td><td>&quot;643&quot;</td><td>&quot;859&quot;</td><td>&quot;200.9&quot;</td><td>&quot;238.9&quot;</td><td>&quot;200.2&quot;</td><td>&quot;267.6&quot;</td><td>null</td><td>null</td><td>null</td><td>null</td><td>null</td><td>null</td><td>25</td></tr><tr><td>1283627</td><td>&quot;2025-03-11_Ninetails&quot;</td><td>&quot;03/11/2025&quot;</td><td>&quot;03/11/2025&quot;</td><td>&quot;17:20:24.432&quot;</td><td>&quot;21:20:24.432&quot;</td><td>505318</td><td>&quot;Tobii I-VT (Fixation)&quot;</td><td>&quot;1.241.54219&quot;</td><td>1080</td><td>1920</td><td>10.0</td><td>&quot;730&quot;</td><td>&quot;823&quot;</td><td>&quot;651&quot;</td><td>&quot;764&quot;</td><td>&quot;808&quot;</td><td>&quot;881&quot;</td><td>&quot;202.7&quot;</td><td>&quot;238.0&quot;</td><td>&quot;251.7&quot;</td><td>&quot;274.3&quot;</td><td>null</td><td>null</td><td>null</td><td>null</td><td>null</td><td>null</td><td>25</td></tr><tr><td>1291961</td><td>&quot;2025-03-11_Ninetails&quot;</td><td>&quot;03/11/2025&quot;</td><td>&quot;03/11/2025&quot;</td><td>&quot;17:20:24.432&quot;</td><td>&quot;21:20:24.432&quot;</td><td>505318</td><td>&quot;Tobii I-VT (Fixation)&quot;</td><td>&quot;1.241.54219&quot;</td><td>1080</td><td>1920</td><td>10.0</td><td>&quot;748&quot;</td><td>&quot;843&quot;</td><td>&quot;659&quot;</td><td>&quot;786&quot;</td><td>&quot;836&quot;</td><td>&quot;899&quot;</td><td>&quot;205.4&quot;</td><td>&quot;244.8&quot;</td><td>&quot;260.4&quot;</td><td>&quot;280.0&quot;</td><td>null</td><td>null</td><td>null</td><td>null</td><td>null</td><td>null</td><td>25</td></tr><tr><td>&hellip;</td><td>&hellip;</td><td>&hellip;</td><td>&hellip;</td><td>&hellip;</td><td>&hellip;</td><td>&hellip;</td><td>&hellip;</td><td>&hellip;</td><td>&hellip;</td><td>&hellip;</td><td>&hellip;</td><td>&hellip;</td><td>&hellip;</td><td>&hellip;</td><td>&hellip;</td><td>&hellip;</td><td>&hellip;</td><td>&hellip;</td><td>&hellip;</td><td>&hellip;</td><td>&hellip;</td><td>&hellip;</td><td>&hellip;</td><td>&hellip;</td><td>&hellip;</td><td>&hellip;</td><td>&hellip;</td><td>&hellip;</td></tr><tr><td>505113984</td><td>&quot;2025-03-11_Ninetails&quot;</td><td>&quot;03/11/2025&quot;</td><td>&quot;03/11/2025&quot;</td><td>&quot;17:20:24.432&quot;</td><td>&quot;21:20:24.432&quot;</td><td>505318</td><td>&quot;Tobii I-VT (Fixation)&quot;</td><td>&quot;1.241.54219&quot;</td><td>1080</td><td>1920</td><td>10.0</td><td>&quot;1822&quot;</td><td>&quot;1008&quot;</td><td>&quot;1835&quot;</td><td>&quot;996&quot;</td><td>&quot;1808&quot;</td><td>&quot;1019&quot;</td><td>&quot;571.6&quot;</td><td>&quot;310.3&quot;</td><td>&quot;563.2&quot;</td><td>&quot;317.5&quot;</td><td>null</td><td>null</td><td>null</td><td>null</td><td>null</td><td>null</td><td>150</td></tr><tr><td>505122316</td><td>&quot;2025-03-11_Ninetails&quot;</td><td>&quot;03/11/2025&quot;</td><td>&quot;03/11/2025&quot;</td><td>&quot;17:20:24.432&quot;</td><td>&quot;21:20:24.432&quot;</td><td>505318</td><td>&quot;Tobii I-VT (Fixation)&quot;</td><td>&quot;1.241.54219&quot;</td><td>1080</td><td>1920</td><td>10.0</td><td>&quot;1833&quot;</td><td>&quot;1012&quot;</td><td>&quot;1814&quot;</td><td>&quot;1004&quot;</td><td>&quot;1851&quot;</td><td>&quot;1020&quot;</td><td>&quot;565.0&quot;</td><td>&quot;312.8&quot;</td><td>&quot;576.5&quot;</td><td>&quot;317.8&quot;</td><td>null</td><td>null</td><td>null</td><td>null</td><td>null</td><td>null</td><td>150</td></tr><tr><td>505130650</td><td>&quot;2025-03-11_Ninetails&quot;</td><td>&quot;03/11/2025&quot;</td><td>&quot;03/11/2025&quot;</td><td>&quot;17:20:24.432&quot;</td><td>&quot;21:20:24.432&quot;</td><td>505318</td><td>&quot;Tobii I-VT (Fixation)&quot;</td><td>&quot;1.241.54219&quot;</td><td>1080</td><td>1920</td><td>10.0</td><td>&quot;1811&quot;</td><td>&quot;1027&quot;</td><td>&quot;1783&quot;</td><td>&quot;1006&quot;</td><td>&quot;1839&quot;</td><td>&quot;1048&quot;</td><td>&quot;555.2&quot;</td><td>&quot;313.3&quot;</td><td>&quot;572.8&quot;</td><td>&quot;326.5&quot;</td><td>null</td><td>null</td><td>null</td><td>null</td><td>null</td><td>null</td><td>8</td></tr><tr><td>505138983</td><td>&quot;2025-03-11_Ninetails&quot;</td><td>&quot;03/11/2025&quot;</td><td>&quot;03/11/2025&quot;</td><td>&quot;17:20:24.432&quot;</td><td>&quot;21:20:24.432&quot;</td><td>505318</td><td>&quot;Tobii I-VT (Fixation)&quot;</td><td>&quot;1.241.54219&quot;</td><td>1080</td><td>1920</td><td>10.0</td><td>&quot;1785&quot;</td><td>&quot;1017&quot;</td><td>&quot;1793&quot;</td><td>&quot;1004&quot;</td><td>&quot;1777&quot;</td><td>&quot;1029&quot;</td><td>&quot;558.6&quot;</td><td>&quot;312.7&quot;</td><td>&quot;553.5&quot;</td><td>&quot;320.6&quot;</td><td>null</td><td>null</td><td>null</td><td>null</td><td>null</td><td>null</td><td>17</td></tr><tr><td>505147316</td><td>&quot;2025-03-11_Ninetails&quot;</td><td>&quot;03/11/2025&quot;</td><td>&quot;03/11/2025&quot;</td><td>&quot;17:20:24.432&quot;</td><td>&quot;21:20:24.432&quot;</td><td>505318</td><td>&quot;Tobii I-VT (Fixation)&quot;</td><td>&quot;1.241.54219&quot;</td><td>1080</td><td>1920</td><td>10.0</td><td>&quot;1798&quot;</td><td>&quot;1029&quot;</td><td>&quot;1821&quot;</td><td>&quot;1015&quot;</td><td>&quot;1774&quot;</td><td>&quot;1043&quot;</td><td>&quot;567.2&quot;</td><td>&quot;316.3&quot;</td><td>&quot;552.5&quot;</td><td>&quot;324.9&quot;</td><td>null</td><td>null</td><td>null</td><td>null</td><td>null</td><td>null</td><td>17</td></tr></tbody></table></div>"
      ],
      "text/plain": [
       "shape: (55_501, 29)\n",
       "┌───────────┬───────────┬───────────┬───────────┬───┬───────────┬───────────┬───────────┬──────────┐\n",
       "│ Recording ┆ Recording ┆ Recording ┆ Recording ┆ … ┆ Gaze      ┆ Gaze      ┆ Gaze      ┆ Gaze     │\n",
       "│ timestamp ┆ name      ┆ date      ┆ date UTC  ┆   ┆ point     ┆ point     ┆ point     ┆ event    │\n",
       "│ ---       ┆ ---       ┆ ---       ┆ ---       ┆   ┆ left Y    ┆ right X   ┆ right Y   ┆ duration │\n",
       "│ i64       ┆ str       ┆ str       ┆ str       ┆   ┆ (MCSnorm) ┆ (MCSnorm) ┆ (MCSnorm) ┆ ---      │\n",
       "│           ┆           ┆           ┆           ┆   ┆ ---       ┆ ---       ┆ ---       ┆ i64      │\n",
       "│           ┆           ┆           ┆           ┆   ┆ str       ┆ str       ┆ str       ┆          │\n",
       "╞═══════════╪═══════════╪═══════════╪═══════════╪═══╪═══════════╪═══════════╪═══════════╪══════════╡\n",
       "│ 1250297   ┆ 2025-03-1 ┆ 03/11/202 ┆ 03/11/202 ┆ … ┆ null      ┆ null      ┆ null      ┆ 17       │\n",
       "│           ┆ 1_Ninetai ┆ 5         ┆ 5         ┆   ┆           ┆           ┆           ┆          │\n",
       "│           ┆ ls        ┆           ┆           ┆   ┆           ┆           ┆           ┆          │\n",
       "│ 1258628   ┆ 2025-03-1 ┆ 03/11/202 ┆ 03/11/202 ┆ … ┆ null      ┆ null      ┆ null      ┆ 17       │\n",
       "│           ┆ 1_Ninetai ┆ 5         ┆ 5         ┆   ┆           ┆           ┆           ┆          │\n",
       "│           ┆ ls        ┆           ┆           ┆   ┆           ┆           ┆           ┆          │\n",
       "│ 1275294   ┆ 2025-03-1 ┆ 03/11/202 ┆ 03/11/202 ┆ … ┆ null      ┆ null      ┆ null      ┆ 25       │\n",
       "│           ┆ 1_Ninetai ┆ 5         ┆ 5         ┆   ┆           ┆           ┆           ┆          │\n",
       "│           ┆ ls        ┆           ┆           ┆   ┆           ┆           ┆           ┆          │\n",
       "│ 1283627   ┆ 2025-03-1 ┆ 03/11/202 ┆ 03/11/202 ┆ … ┆ null      ┆ null      ┆ null      ┆ 25       │\n",
       "│           ┆ 1_Ninetai ┆ 5         ┆ 5         ┆   ┆           ┆           ┆           ┆          │\n",
       "│           ┆ ls        ┆           ┆           ┆   ┆           ┆           ┆           ┆          │\n",
       "│ 1291961   ┆ 2025-03-1 ┆ 03/11/202 ┆ 03/11/202 ┆ … ┆ null      ┆ null      ┆ null      ┆ 25       │\n",
       "│           ┆ 1_Ninetai ┆ 5         ┆ 5         ┆   ┆           ┆           ┆           ┆          │\n",
       "│           ┆ ls        ┆           ┆           ┆   ┆           ┆           ┆           ┆          │\n",
       "│ …         ┆ …         ┆ …         ┆ …         ┆ … ┆ …         ┆ …         ┆ …         ┆ …        │\n",
       "│ 505113984 ┆ 2025-03-1 ┆ 03/11/202 ┆ 03/11/202 ┆ … ┆ null      ┆ null      ┆ null      ┆ 150      │\n",
       "│           ┆ 1_Ninetai ┆ 5         ┆ 5         ┆   ┆           ┆           ┆           ┆          │\n",
       "│           ┆ ls        ┆           ┆           ┆   ┆           ┆           ┆           ┆          │\n",
       "│ 505122316 ┆ 2025-03-1 ┆ 03/11/202 ┆ 03/11/202 ┆ … ┆ null      ┆ null      ┆ null      ┆ 150      │\n",
       "│           ┆ 1_Ninetai ┆ 5         ┆ 5         ┆   ┆           ┆           ┆           ┆          │\n",
       "│           ┆ ls        ┆           ┆           ┆   ┆           ┆           ┆           ┆          │\n",
       "│ 505130650 ┆ 2025-03-1 ┆ 03/11/202 ┆ 03/11/202 ┆ … ┆ null      ┆ null      ┆ null      ┆ 8        │\n",
       "│           ┆ 1_Ninetai ┆ 5         ┆ 5         ┆   ┆           ┆           ┆           ┆          │\n",
       "│           ┆ ls        ┆           ┆           ┆   ┆           ┆           ┆           ┆          │\n",
       "│ 505138983 ┆ 2025-03-1 ┆ 03/11/202 ┆ 03/11/202 ┆ … ┆ null      ┆ null      ┆ null      ┆ 17       │\n",
       "│           ┆ 1_Ninetai ┆ 5         ┆ 5         ┆   ┆           ┆           ┆           ┆          │\n",
       "│           ┆ ls        ┆           ┆           ┆   ┆           ┆           ┆           ┆          │\n",
       "│ 505147316 ┆ 2025-03-1 ┆ 03/11/202 ┆ 03/11/202 ┆ … ┆ null      ┆ null      ┆ null      ┆ 17       │\n",
       "│           ┆ 1_Ninetai ┆ 5         ┆ 5         ┆   ┆           ┆           ┆           ┆          │\n",
       "│           ┆ ls        ┆           ┆           ┆   ┆           ┆           ┆           ┆          │\n",
       "└───────────┴───────────┴───────────┴───────────┴───┴───────────┴───────────┴───────────┴──────────┘"
      ]
     },
     "execution_count": null,
     "metadata": {},
     "output_type": "execute_result"
    }
   ],
   "source": [
    "participant_tsv_ninetails.drop_nulls(subset=[\"Gaze point X\", \"Gaze point Y\"])[COLUMNS_RECORDING + COLUMNS_GAZE ]"
   ]
  },
  {
   "cell_type": "code",
   "execution_count": null,
   "metadata": {},
   "outputs": [
    {
     "data": {
      "text/html": [
       "<div><style>\n",
       ".dataframe > thead > tr,\n",
       ".dataframe > tbody > tr {\n",
       "  text-align: right;\n",
       "  white-space: pre-wrap;\n",
       "}\n",
       "</style>\n",
       "<small>shape: (10, 18)</small><table border=\"1\" class=\"dataframe\"><thead><tr><th>participant_id</th><th>participant_external_id</th><th>participant_age</th><th>participant_gender</th><th>participant_display_gender</th><th>participant_tags</th><th>participant_quality_grade</th><th>participant_quality_grade_item</th><th>item_id</th><th>test_id</th><th>test_created_at</th><th>test_duration_ms</th><th>test_browser_width_px</th><th>test_browser_height_px</th><th>test_item_display_order</th><th>exposure_number</th><th>test_raw_data</th><th>notes</th></tr><tr><td>str</td><td>null</td><td>null</td><td>null</td><td>str</td><td>null</td><td>i64</td><td>i64</td><td>str</td><td>str</td><td>str</td><td>i64</td><td>i64</td><td>i64</td><td>i64</td><td>i64</td><td>str</td><td>str</td></tr></thead><tbody><tr><td>&quot;62e1d6db-e570-4194-b792-1fc4ef…</td><td>null</td><td>null</td><td>null</td><td>&quot;unknown&quot;</td><td>null</td><td>5</td><td>6</td><td>&quot;5b8637a5-c1c7-47cc-a1b4-5abe24…</td><td>&quot;67b60e65-dd83-4598-a841-96f639…</td><td>&quot;2025-02-26T20:12:00+00:00&quot;</td><td>1018</td><td>1920</td><td>1080</td><td>1</td><td>1</td><td>&quot;[[973,475,28,0,1588,1079],[917…</td><td>&quot;RealEye v18.24.5; ; TestCriter…</td></tr><tr><td>&quot;a19074f0-818d-42d2-8d29-290429…</td><td>null</td><td>null</td><td>null</td><td>&quot;unknown&quot;</td><td>null</td><td>2</td><td>6</td><td>&quot;5b8637a5-c1c7-47cc-a1b4-5abe24…</td><td>&quot;8787e4f0-d5e4-4980-95d6-12ded7…</td><td>&quot;2025-02-26T21:38:52+00:00&quot;</td><td>1015</td><td>1920</td><td>1080</td><td>1</td><td>1</td><td>&quot;[[902,599,36,0,1484,1077],[938…</td><td>null</td></tr><tr><td>&quot;5f08f1c2-e9f3-4adb-9fb4-a68b3a…</td><td>null</td><td>null</td><td>null</td><td>&quot;unknown&quot;</td><td>null</td><td>5</td><td>5</td><td>&quot;5b8637a5-c1c7-47cc-a1b4-5abe24…</td><td>&quot;73714d62-9d04-4ff8-95f9-dd8507…</td><td>&quot;2024-10-23T18:37:18+00:00&quot;</td><td>1016</td><td>1920</td><td>1028</td><td>1</td><td>1</td><td>&quot;[[1085,721,36,0,1919,593],[102…</td><td>null</td></tr><tr><td>&quot;105a3ff2-f0de-4d4b-adaa-feddee…</td><td>null</td><td>null</td><td>null</td><td>&quot;unknown&quot;</td><td>null</td><td>5</td><td>6</td><td>&quot;5b8637a5-c1c7-47cc-a1b4-5abe24…</td><td>&quot;ea5a6bec-24c2-492d-bbe5-d39a8c…</td><td>&quot;2024-10-23T20:12:28+00:00&quot;</td><td>1021</td><td>1920</td><td>1028</td><td>1</td><td>1</td><td>&quot;[[1054,543,51,0,897,551],[1052…</td><td>null</td></tr><tr><td>&quot;7fdc2add-bd15-4a04-b77b-242e5b…</td><td>null</td><td>null</td><td>null</td><td>&quot;unknown&quot;</td><td>null</td><td>5</td><td>6</td><td>&quot;5b8637a5-c1c7-47cc-a1b4-5abe24…</td><td>&quot;bbd0eaf5-ce47-4b18-90e6-8a641d…</td><td>&quot;2024-10-25T20:53:25+00:00&quot;</td><td>1013</td><td>1920</td><td>1028</td><td>1</td><td>1</td><td>&quot;[[938,648,44,0,1919,400],[982,…</td><td>null</td></tr><tr><td>&quot;f1acfcdd-7931-462f-a2d7-89da56…</td><td>null</td><td>null</td><td>null</td><td>&quot;unknown&quot;</td><td>null</td><td>5</td><td>6</td><td>&quot;5b8637a5-c1c7-47cc-a1b4-5abe24…</td><td>&quot;9ac9f750-0b2f-4e5b-bfce-caf042…</td><td>&quot;2024-10-30T16:37:57+00:00&quot;</td><td>1017</td><td>1920</td><td>1028</td><td>1</td><td>1</td><td>&quot;[[916,401,38,0,1919,219],[928,…</td><td>null</td></tr><tr><td>&quot;e3449b0c-9d22-4eb2-9cd6-52cc8a…</td><td>null</td><td>null</td><td>null</td><td>&quot;unknown&quot;</td><td>null</td><td>5</td><td>6</td><td>&quot;5b8637a5-c1c7-47cc-a1b4-5abe24…</td><td>&quot;bdee29e9-58a2-4aa3-903e-527a0e…</td><td>&quot;2025-02-27T23:45:44+00:00&quot;</td><td>1013</td><td>1920</td><td>1080</td><td>1</td><td>1</td><td>&quot;[[952,551,40,0,1917,1079],[950…</td><td>null</td></tr><tr><td>&quot;3a8a78a0-2aa7-4ff8-a7cc-5fb86e…</td><td>null</td><td>null</td><td>null</td><td>&quot;unknown&quot;</td><td>null</td><td>4</td><td>6</td><td>&quot;5b8637a5-c1c7-47cc-a1b4-5abe24…</td><td>&quot;ab2839b8-2f13-4450-ba7f-ab6b56…</td><td>&quot;2024-11-07T19:49:33+00:00&quot;</td><td>1008</td><td>1920</td><td>1028</td><td>1</td><td>1</td><td>&quot;[[696,535,43,0,1918,371],[713,…</td><td>null</td></tr><tr><td>&quot;237bb20b-de12-424a-a44a-e7af7e…</td><td>null</td><td>null</td><td>null</td><td>&quot;unknown&quot;</td><td>null</td><td>6</td><td>5</td><td>&quot;5b8637a5-c1c7-47cc-a1b4-5abe24…</td><td>&quot;9f664439-21f5-4eb7-9947-70dfb6…</td><td>&quot;2024-11-01T20:31:37+00:00&quot;</td><td>989</td><td>1920</td><td>1028</td><td>1</td><td>1</td><td>&quot;[[854,527,28,0,1919,592],[928,…</td><td>null</td></tr><tr><td>&quot;5ea90987-5dda-4cba-8ba3-d890cb…</td><td>null</td><td>null</td><td>null</td><td>&quot;unknown&quot;</td><td>null</td><td>4</td><td>5</td><td>&quot;5b8637a5-c1c7-47cc-a1b4-5abe24…</td><td>&quot;5f35af22-b0fe-466f-a8b7-c4e325…</td><td>&quot;2024-11-15T21:42:19+00:00&quot;</td><td>992</td><td>1920</td><td>1028</td><td>1</td><td>1</td><td>&quot;[[1033,446,25,0,1919,1005],[10…</td><td>null</td></tr></tbody></table></div>"
      ],
      "text/plain": [
       "shape: (10, 18)\n",
       "┌───────────┬───────────┬───────────┬───────────┬───┬───────────┬───────────┬───────────┬──────────┐\n",
       "│ participa ┆ participa ┆ participa ┆ participa ┆ … ┆ test_item ┆ exposure_ ┆ test_raw_ ┆ notes    │\n",
       "│ nt_id     ┆ nt_extern ┆ nt_age    ┆ nt_gender ┆   ┆ _display_ ┆ number    ┆ data      ┆ ---      │\n",
       "│ ---       ┆ al_id     ┆ ---       ┆ ---       ┆   ┆ order     ┆ ---       ┆ ---       ┆ str      │\n",
       "│ str       ┆ ---       ┆ null      ┆ null      ┆   ┆ ---       ┆ i64       ┆ str       ┆          │\n",
       "│           ┆ null      ┆           ┆           ┆   ┆ i64       ┆           ┆           ┆          │\n",
       "╞═══════════╪═══════════╪═══════════╪═══════════╪═══╪═══════════╪═══════════╪═══════════╪══════════╡\n",
       "│ 62e1d6db- ┆ null      ┆ null      ┆ null      ┆ … ┆ 1         ┆ 1         ┆ [[973,475 ┆ RealEye  │\n",
       "│ e570-4194 ┆           ┆           ┆           ┆   ┆           ┆           ┆ ,28,0,158 ┆ v18.24.5 │\n",
       "│ -b792-1fc ┆           ┆           ┆           ┆   ┆           ┆           ┆ 8,1079],[ ┆ ; ; Test │\n",
       "│ 4ef…      ┆           ┆           ┆           ┆   ┆           ┆           ┆ 917…      ┆ Criter…  │\n",
       "│ a19074f0- ┆ null      ┆ null      ┆ null      ┆ … ┆ 1         ┆ 1         ┆ [[902,599 ┆ null     │\n",
       "│ 818d-42d2 ┆           ┆           ┆           ┆   ┆           ┆           ┆ ,36,0,148 ┆          │\n",
       "│ -8d29-290 ┆           ┆           ┆           ┆   ┆           ┆           ┆ 4,1077],[ ┆          │\n",
       "│ 429…      ┆           ┆           ┆           ┆   ┆           ┆           ┆ 938…      ┆          │\n",
       "│ 5f08f1c2- ┆ null      ┆ null      ┆ null      ┆ … ┆ 1         ┆ 1         ┆ [[1085,72 ┆ null     │\n",
       "│ e9f3-4adb ┆           ┆           ┆           ┆   ┆           ┆           ┆ 1,36,0,19 ┆          │\n",
       "│ -9fb4-a68 ┆           ┆           ┆           ┆   ┆           ┆           ┆ 19,593],[ ┆          │\n",
       "│ b3a…      ┆           ┆           ┆           ┆   ┆           ┆           ┆ 102…      ┆          │\n",
       "│ 105a3ff2- ┆ null      ┆ null      ┆ null      ┆ … ┆ 1         ┆ 1         ┆ [[1054,54 ┆ null     │\n",
       "│ f0de-4d4b ┆           ┆           ┆           ┆   ┆           ┆           ┆ 3,51,0,89 ┆          │\n",
       "│ -adaa-fed ┆           ┆           ┆           ┆   ┆           ┆           ┆ 7,551],[1 ┆          │\n",
       "│ dee…      ┆           ┆           ┆           ┆   ┆           ┆           ┆ 052…      ┆          │\n",
       "│ 7fdc2add- ┆ null      ┆ null      ┆ null      ┆ … ┆ 1         ┆ 1         ┆ [[938,648 ┆ null     │\n",
       "│ bd15-4a04 ┆           ┆           ┆           ┆   ┆           ┆           ┆ ,44,0,191 ┆          │\n",
       "│ -b77b-242 ┆           ┆           ┆           ┆   ┆           ┆           ┆ 9,400],[9 ┆          │\n",
       "│ e5b…      ┆           ┆           ┆           ┆   ┆           ┆           ┆ 82,…      ┆          │\n",
       "│ f1acfcdd- ┆ null      ┆ null      ┆ null      ┆ … ┆ 1         ┆ 1         ┆ [[916,401 ┆ null     │\n",
       "│ 7931-462f ┆           ┆           ┆           ┆   ┆           ┆           ┆ ,38,0,191 ┆          │\n",
       "│ -a2d7-89d ┆           ┆           ┆           ┆   ┆           ┆           ┆ 9,219],[9 ┆          │\n",
       "│ a56…      ┆           ┆           ┆           ┆   ┆           ┆           ┆ 28,…      ┆          │\n",
       "│ e3449b0c- ┆ null      ┆ null      ┆ null      ┆ … ┆ 1         ┆ 1         ┆ [[952,551 ┆ null     │\n",
       "│ 9d22-4eb2 ┆           ┆           ┆           ┆   ┆           ┆           ┆ ,40,0,191 ┆          │\n",
       "│ -9cd6-52c ┆           ┆           ┆           ┆   ┆           ┆           ┆ 7,1079],[ ┆          │\n",
       "│ c8a…      ┆           ┆           ┆           ┆   ┆           ┆           ┆ 950…      ┆          │\n",
       "│ 3a8a78a0- ┆ null      ┆ null      ┆ null      ┆ … ┆ 1         ┆ 1         ┆ [[696,535 ┆ null     │\n",
       "│ 2aa7-4ff8 ┆           ┆           ┆           ┆   ┆           ┆           ┆ ,43,0,191 ┆          │\n",
       "│ -a7cc-5fb ┆           ┆           ┆           ┆   ┆           ┆           ┆ 8,371],[7 ┆          │\n",
       "│ 86e…      ┆           ┆           ┆           ┆   ┆           ┆           ┆ 13,…      ┆          │\n",
       "│ 237bb20b- ┆ null      ┆ null      ┆ null      ┆ … ┆ 1         ┆ 1         ┆ [[854,527 ┆ null     │\n",
       "│ de12-424a ┆           ┆           ┆           ┆   ┆           ┆           ┆ ,28,0,191 ┆          │\n",
       "│ -a44a-e7a ┆           ┆           ┆           ┆   ┆           ┆           ┆ 9,592],[9 ┆          │\n",
       "│ f7e…      ┆           ┆           ┆           ┆   ┆           ┆           ┆ 28,…      ┆          │\n",
       "│ 5ea90987- ┆ null      ┆ null      ┆ null      ┆ … ┆ 1         ┆ 1         ┆ [[1033,44 ┆ null     │\n",
       "│ 5dda-4cba ┆           ┆           ┆           ┆   ┆           ┆           ┆ 6,25,0,19 ┆          │\n",
       "│ -8ba3-d89 ┆           ┆           ┆           ┆   ┆           ┆           ┆ 19,1005], ┆          │\n",
       "│ 0cb…      ┆           ┆           ┆           ┆   ┆           ┆           ┆ [10…      ┆          │\n",
       "└───────────┴───────────┴───────────┴───────────┴───┴───────────┴───────────┴───────────┴──────────┘"
      ]
     },
     "execution_count": null,
     "metadata": {},
     "output_type": "execute_result"
    }
   ],
   "source": [
    "pl.DataFrame(raw_csv_as_dict_list[0:10])"
   ]
  },
  {
   "cell_type": "markdown",
   "metadata": {},
   "source": [
    "## What do we care to look at?\n",
    "Shapes, which are the best for the overlap check"
   ]
  },
  {
   "cell_type": "markdown",
   "metadata": {},
   "source": [
    "#### Validation: 260 = 26 $\\times$ 10"
   ]
  },
  {
   "cell_type": "code",
   "execution_count": null,
   "metadata": {},
   "outputs": [
    {
     "data": {
      "text/html": [
       "<div><style>\n",
       ".dataframe > thead > tr,\n",
       ".dataframe > tbody > tr {\n",
       "  text-align: right;\n",
       "  white-space: pre-wrap;\n",
       "}\n",
       "</style>\n",
       "<small>shape: (26,)</small><table border=\"1\" class=\"dataframe\"><thead><tr><th>participant_id</th></tr><tr><td>str</td></tr></thead><tbody><tr><td>&quot;20647ffb-a505-4c16-aedc-4ecd65…</td></tr><tr><td>&quot;105a3ff2-f0de-4d4b-adaa-feddee…</td></tr><tr><td>&quot;ea58875e-7ff1-4db1-934e-ed0396…</td></tr><tr><td>&quot;a5e522e6-a61d-470c-bc18-672f4b…</td></tr><tr><td>&quot;5ea90987-5dda-4cba-8ba3-d890cb…</td></tr><tr><td>&hellip;</td></tr><tr><td>&quot;3a8a78a0-2aa7-4ff8-a7cc-5fb86e…</td></tr><tr><td>&quot;e3449b0c-9d22-4eb2-9cd6-52cc8a…</td></tr><tr><td>&quot;5b6b4f1b-ec57-452d-a931-3c7c92…</td></tr><tr><td>&quot;3ab0241e-c44f-4bf3-8634-c7b978…</td></tr><tr><td>&quot;5f08f1c2-e9f3-4adb-9fb4-a68b3a…</td></tr></tbody></table></div>"
      ],
      "text/plain": [
       "shape: (26,)\n",
       "Series: 'participant_id' [str]\n",
       "[\n",
       "\t\"20647ffb-a505-4c16-aedc-4ecd65…\n",
       "\t\"105a3ff2-f0de-4d4b-adaa-feddee…\n",
       "\t\"ea58875e-7ff1-4db1-934e-ed0396…\n",
       "\t\"a5e522e6-a61d-470c-bc18-672f4b…\n",
       "\t\"5ea90987-5dda-4cba-8ba3-d890cb…\n",
       "\t…\n",
       "\t\"3a8a78a0-2aa7-4ff8-a7cc-5fb86e…\n",
       "\t\"e3449b0c-9d22-4eb2-9cd6-52cc8a…\n",
       "\t\"5b6b4f1b-ec57-452d-a931-3c7c92…\n",
       "\t\"3ab0241e-c44f-4bf3-8634-c7b978…\n",
       "\t\"5f08f1c2-e9f3-4adb-9fb4-a68b3a…\n",
       "]"
      ]
     },
     "execution_count": null,
     "metadata": {},
     "output_type": "execute_result"
    }
   ],
   "source": [
    "raw_gaze_csv[\"participant_id\"].unique()"
   ]
  },
  {
   "cell_type": "code",
   "execution_count": null,
   "metadata": {},
   "outputs": [
    {
     "data": {
      "text/html": [
       "<div><style>\n",
       ".dataframe > thead > tr,\n",
       ".dataframe > tbody > tr {\n",
       "  text-align: right;\n",
       "  white-space: pre-wrap;\n",
       "}\n",
       "</style>\n",
       "<small>shape: (10,)</small><table border=\"1\" class=\"dataframe\"><thead><tr><th>item_id</th></tr><tr><td>str</td></tr></thead><tbody><tr><td>&quot;75ee4147-26ff-48ff-8c88-1743c3…</td></tr><tr><td>&quot;83e23c46-4fe9-483b-abb5-4ba3cc…</td></tr><tr><td>&quot;e9978edb-9cdf-4db7-acef-3a08df…</td></tr><tr><td>&quot;b1641c81-54ff-4370-ab32-8476ef…</td></tr><tr><td>&quot;efff95c6-ae5c-482a-9388-dafb00…</td></tr><tr><td>&quot;63dc6493-df28-4aba-9d79-1dedc3…</td></tr><tr><td>&quot;5b8637a5-c1c7-47cc-a1b4-5abe24…</td></tr><tr><td>&quot;f456cacf-9abd-4825-a964-859f1b…</td></tr><tr><td>&quot;e5762660-01a6-4e77-8e04-066b96…</td></tr><tr><td>&quot;d4bdad0c-13ae-4276-b1f4-007c2a…</td></tr></tbody></table></div>"
      ],
      "text/plain": [
       "shape: (10,)\n",
       "Series: 'item_id' [str]\n",
       "[\n",
       "\t\"75ee4147-26ff-48ff-8c88-1743c3…\n",
       "\t\"83e23c46-4fe9-483b-abb5-4ba3cc…\n",
       "\t\"e9978edb-9cdf-4db7-acef-3a08df…\n",
       "\t\"b1641c81-54ff-4370-ab32-8476ef…\n",
       "\t\"efff95c6-ae5c-482a-9388-dafb00…\n",
       "\t\"63dc6493-df28-4aba-9d79-1dedc3…\n",
       "\t\"5b8637a5-c1c7-47cc-a1b4-5abe24…\n",
       "\t\"f456cacf-9abd-4825-a964-859f1b…\n",
       "\t\"e5762660-01a6-4e77-8e04-066b96…\n",
       "\t\"d4bdad0c-13ae-4276-b1f4-007c2a…\n",
       "]"
      ]
     },
     "execution_count": null,
     "metadata": {},
     "output_type": "execute_result"
    }
   ],
   "source": [
    "raw_gaze_csv[\"item_id\"].unique() # called \"preview item\" in the browser\n",
    "# 83e23c46-4fe9-483b-abb5-4ba3cc… is the shapes screen"
   ]
  },
  {
   "cell_type": "code",
   "execution_count": null,
   "metadata": {},
   "outputs": [
    {
     "data": {
      "image/png": "[encoded data removed]"
     },
     "metadata": {},
     "output_type": "display_data"
    }
   ],
   "source": [
    "from plotnine import ggplot, aes, geom_line, geom_point"
   ]
  },
  {
   "cell_type": "code",
   "execution_count": null,
   "metadata": {},
   "outputs": [],
   "source": [
    "def _plot_coordinate_all():\n",
    "    # analysis from how far \"one plot is from another\"\n",
    "    # Tobii: monitor-based (fixed)\n",
    "    # RealEye: \n",
    "    example = [\n",
    "        {\"x\": x, \"y\": y}\n",
    "        for (x, y, *rest) in\n",
    "        Iterated.resettable_iter_raw(raw_csv_as_dict_list[0][\"test_raw_data\"]).iter()\n",
    "    ]\n",
    "    example = pl.DataFrame(example)\n",
    "    example_other = participant_tsv_ninetails.drop_nulls(subset=[\"Gaze point X\", \"Gaze point Y\"])\n",
    "    return ggplot(example, aes(\"x\", \"y\")) + geom_point()\n"
   ]
  },
  {
   "cell_type": "code",
   "execution_count": null,
   "metadata": {},
   "outputs": [],
   "source": [
    "\n",
    "_plot_coordinate_all()"
   ]
  },
  {
   "cell_type": "markdown",
   "metadata": {},
   "source": [
    "### Why are runs short?\n",
    "Potential cause: Because the data are separated by stimuli and participant.\n",
    "- Flattening out in that way would solve that problem.\n",
    "\n",
    "2025-04-15:\n",
    "* Should be the 10 screens per 26 participants."
   ]
  },
  {
   "cell_type": "markdown",
   "metadata": {},
   "source": [
    "### How many quintuples do we have?\n",
    "It's hard to tell in Excel. Let's check numerically"
   ]
  },
  {
   "cell_type": "code",
   "execution_count": null,
   "metadata": {},
   "outputs": [
    {
     "data": {
      "text/html": [
       "<div><style>\n",
       ".dataframe > thead > tr,\n",
       ".dataframe > tbody > tr {\n",
       "  text-align: right;\n",
       "  white-space: pre-wrap;\n",
       "}\n",
       "</style>\n",
       "<small>shape: (9, 2)</small><table border=\"1\" class=\"dataframe\"><thead><tr><th>statistic</th><th>test_raw_data</th></tr><tr><td>str</td><td>f64</td></tr></thead><tbody><tr><td>&quot;count&quot;</td><td>260.0</td></tr><tr><td>&quot;null_count&quot;</td><td>0.0</td></tr><tr><td>&quot;mean&quot;</td><td>19997.75</td></tr><tr><td>&quot;std&quot;</td><td>21025.171811</td></tr><tr><td>&quot;min&quot;</td><td>713.0</td></tr><tr><td>&quot;25%&quot;</td><td>831.0</td></tr><tr><td>&quot;50%&quot;</td><td>6571.0</td></tr><tr><td>&quot;75%&quot;</td><td>39597.0</td></tr><tr><td>&quot;max&quot;</td><td>53924.0</td></tr></tbody></table></div>"
      ],
      "text/plain": [
       "shape: (9, 2)\n",
       "┌────────────┬───────────────┐\n",
       "│ statistic  ┆ test_raw_data │\n",
       "│ ---        ┆ ---           │\n",
       "│ str        ┆ f64           │\n",
       "╞════════════╪═══════════════╡\n",
       "│ count      ┆ 260.0         │\n",
       "│ null_count ┆ 0.0           │\n",
       "│ mean       ┆ 19997.75      │\n",
       "│ std        ┆ 21025.171811  │\n",
       "│ min        ┆ 713.0         │\n",
       "│ 25%        ┆ 831.0         │\n",
       "│ 50%        ┆ 6571.0        │\n",
       "│ 75%        ┆ 39597.0       │\n",
       "│ max        ┆ 53924.0       │\n",
       "└────────────┴───────────────┘"
      ]
     },
     "execution_count": null,
     "metadata": {},
     "output_type": "execute_result"
    }
   ],
   "source": [
    "raw_gaze_csv.select(pl.col(\"test_raw_data\").map_elements(len, return_dtype=int)).describe()"
   ]
  },
  {
   "cell_type": "markdown",
   "metadata": {},
   "source": [
    "That's quite the distribution. Lets look at it just cause"
   ]
  },
  {
   "cell_type": "code",
   "execution_count": null,
   "metadata": {},
   "outputs": [
    {
     "data": {
      "image/png": "[encoded data removed]"
     },
     "metadata": {},
     "output_type": "display_data"
    }
   ],
   "source": [
    "from plotnine import ggplot, aes, geom_histogram, theme_minimal, scale_x_discrete"
   ]
  },
  {
   "cell_type": "code",
   "execution_count": null,
   "metadata": {},
   "outputs": [],
   "source": [
    "\n",
    "raw_gaze_data_lengths = raw_gaze_csv.select(\n",
    "    pl.col(\"test_raw_data\").map_elements(len, return_dtype=int)\n",
    ")\n",
    "\n",
    "(\n",
    "    ggplot(raw_gaze_data_lengths, aes(x=\"test_raw_data\"))\n",
    "    + geom_histogram(bins=20, fill=\"lightblue\", color=\"black\")\n",
    "    # + scale_x_discrete(limits=[0, 54_000])\n",
    "    + theme_minimal()\n",
    ")"
   ]
  },
  {
   "cell_type": "code",
   "execution_count": null,
   "metadata": {},
   "outputs": [],
   "source": [
    "corrected_gazes = raw_gaze_csv.select(\"test_created_at\", pl.col(\"test_raw_data\").map_elements(parse_lists, return_dtype=pl.List))"
   ]
  },
  {
   "cell_type": "markdown",
   "metadata": {},
   "source": [
    "### 2025-04-15 Meeting with Kathy Recap\n",
    "1. What does the data look like?\n",
    "    - How is Stephen managing all of the raw data?\n",
    "2. Can we answer questions investigatively?\n",
    "    - Why do have 260 records? **Answer**: because we have 26 sessions, with 10 \"stimuli\"\n",
    "3. Is reshaping and exporting the data possible?\n",
    "    - (Done) Livecoding the export potential\n",
    "    - **TODO**: Rolling it out to work for all of the participants"
   ]
  }
 ],
 "metadata": {
  "language_info": {
   "name": "python"
  }
 },
 "nbformat": 4,
 "nbformat_minor": 2
}
