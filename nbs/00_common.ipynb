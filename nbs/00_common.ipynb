{
 "cells": [
  {
   "cell_type": "code",
   "execution_count": 1,
   "id": "ed130f54",
   "metadata": {},
   "outputs": [],
   "source": [
    "#| default_exp common\n",
    "import polars as pl\n"
   ]
  },
  {
   "cell_type": "code",
   "execution_count": 2,
   "id": "6680f7cf",
   "metadata": {},
   "outputs": [],
   "source": [
    "#| export\n",
    "from typing import Any, Iterable\n",
    "def group_by(grouper: 'Callable', items: Iterable[Any]) -> dict[any, any]:\n",
    "    from collections import defaultdict\n",
    "    groups = defaultdict(list)\n",
    "    for item in items:\n",
    "        groups[grouper(item)].append(item)\n",
    "    return groups"
   ]
  },
  {
   "cell_type": "code",
   "execution_count": 12,
   "id": "fd74d397",
   "metadata": {},
   "outputs": [],
   "source": [
    "# | export\n",
    "from typing import Callable, TypeVar\n",
    "\n",
    "T = TypeVar(\"T\")\n",
    "type Predicate[T] = Callable[[T], bool]\n",
    "\n",
    "\n",
    "def partition(\n",
    "    criterion: Predicate[T],  # Filtering condition\n",
    "    items: Iterable[T],  # Objects that may meet the criterion\n",
    ") -> tuple[list[T], list[T]]:  # Tuple of (matches, misses)\n",
    "    \"Apply `criterion` to `items` to generate a list of those matching and not matching\"\n",
    "    matches, misses = [], []\n",
    "    for item in items:\n",
    "        if criterion(item): matches.append(item)\n",
    "        else: misses.append(item)\n",
    "    \n",
    "    return matches, misses"
   ]
  },
  {
   "cell_type": "code",
   "execution_count": 15,
   "id": "8ec5e046",
   "metadata": {},
   "outputs": [],
   "source": [
    "from fastcore.test import test_is, test_eq\n",
    "\n",
    "small_numbers = list(range(1, 11))\n",
    "\n",
    "test_eq(partition(lambda num: num % 2 == 0, small_numbers)[0], list(range(2, 11, 2)))\n",
    "test_eq(partition(lambda num: num % 2 == 0, small_numbers)[1], list(range(1, 11, 2)))"
   ]
  },
  {
   "cell_type": "code",
   "execution_count": null,
   "id": "29d29e6b",
   "metadata": {},
   "outputs": [],
   "source": [
    "#| export\n",
    "from datetime import datetime, UTC\n",
    "\n",
    "def dt_str_now() -> str:\n",
    "    return datetime.now(UTC).strftime(\"%Y-%m-%d-%H%M\")\n",
    "\n",
    "def date_str_now() -> str:\n",
    "    \"year-month-day\"\n",
    "    return datetime.now(UTC).strftime(\"%Y-%m-%d\")"
   ]
  },
  {
   "cell_type": "code",
   "execution_count": 7,
   "id": "4e0bd7ae",
   "metadata": {},
   "outputs": [],
   "source": [
    "#| export\n",
    "def list_concat(lists: list[list]) -> list:\n",
    "    result = [\n",
    "        item for l_ in lists for item in l_\n",
    "    ]\n",
    "    return result"
   ]
  },
  {
   "cell_type": "code",
   "execution_count": 4,
   "id": "51b2d5fb",
   "metadata": {},
   "outputs": [],
   "source": [
    "from fastcore.basics import concat, flatten"
   ]
  },
  {
   "cell_type": "code",
   "execution_count": 5,
   "id": "49d62426",
   "metadata": {},
   "outputs": [
    {
     "data": {
      "text/plain": [
       "[0, 1, 2, 3, 0, 1, 2, 12, 1, 11]"
      ]
     },
     "execution_count": null,
     "metadata": {},
     "output_type": "execute_result"
    }
   ],
   "source": [
    "concat([0, [1, 2, 3], range(3), [[12], 1, [11]]])"
   ]
  }
 ],
 "metadata": {
  "language_info": {
   "name": "python"
  }
 },
 "nbformat": 4,
 "nbformat_minor": 5
}
