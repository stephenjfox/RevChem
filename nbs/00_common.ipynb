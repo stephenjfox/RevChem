{
 "cells": [
  {
   "cell_type": "code",
   "execution_count": 1,
   "id": "ed130f54",
   "metadata": {},
   "outputs": [],
   "source": [
    "#| default_exp common\n",
    "import polars as pl\n"
   ]
  },
  {
   "cell_type": "code",
   "execution_count": null,
   "id": "6680f7cf",
   "metadata": {},
   "outputs": [],
   "source": [
    "#| export\n",
    "from collections import defaultdict\n",
    "from typing import Any, Callable, Iterable\n",
    "\n",
    "def group_by(grouper: Callable, items: Iterable[Any]) -> dict[any, any]:\n",
    "    groups = defaultdict(list)\n",
    "    for item in items:\n",
    "        groups[grouper(item)].append(item)\n",
    "    return groups"
   ]
  },
  {
   "cell_type": "code",
   "execution_count": 12,
   "id": "fd74d397",
   "metadata": {},
   "outputs": [],
   "source": [
    "# | export\n",
    "from typing import Callable, TypeVar\n",
    "\n",
    "T = TypeVar(\"T\")\n",
    "type Predicate[T] = Callable[[T], bool]\n",
    "\n",
    "\n",
    "def partition(\n",
    "    criterion: Predicate[T],  # Filtering condition\n",
    "    items: Iterable[T],  # Objects that may meet the criterion\n",
    ") -> tuple[list[T], list[T]]:  # Tuple of (matches, misses)\n",
    "    \"Apply `criterion` to `items` to generate a list of those matching and not matching\"\n",
    "    matches, misses = [], []\n",
    "    for item in items:\n",
    "        if criterion(item): matches.append(item)\n",
    "        else: misses.append(item)\n",
    "    \n",
    "    return matches, misses"
   ]
  },
  {
   "cell_type": "code",
   "execution_count": 15,
   "id": "8ec5e046",
   "metadata": {},
   "outputs": [],
   "source": [
    "from fastcore.test import test_is, test_eq\n",
    "\n",
    "small_numbers = list(range(1, 11))\n",
    "\n",
    "test_eq(partition(lambda num: num % 2 == 0, small_numbers)[0], list(range(2, 11, 2)))\n",
    "test_eq(partition(lambda num: num % 2 == 0, small_numbers)[1], list(range(1, 11, 2)))"
   ]
  },
  {
   "cell_type": "markdown",
   "id": "c640f6b1",
   "metadata": {},
   "source": [
    "## Tools for Iterables"
   ]
  },
  {
   "cell_type": "code",
   "execution_count": null,
   "id": "cf51fe40",
   "metadata": {},
   "outputs": [],
   "source": [
    "#| export\n",
    "def first(iterable):\n",
    "    _it = iter(iterable)\n",
    "    return next(_it)\n",
    "def second(iterable):\n",
    "    _it = iter(iterable)\n",
    "    next(_it)\n",
    "    return next(_it)\n",
    "fst = first\n",
    "snd = second"
   ]
  },
  {
   "cell_type": "code",
   "execution_count": null,
   "id": "3a1954c1",
   "metadata": {},
   "outputs": [],
   "source": [
    "from itertools import takewhile\n",
    "from typing import Iterable\n",
    "\n",
    "#| export\n",
    "def take_n(iterable, *, n=5) -> Iterable:\n",
    "    count = 0\n",
    "    for x in takewhile(lambda _: count < n, iterable):\n",
    "        yield x\n",
    "        count += 1\n"
   ]
  },
  {
   "cell_type": "code",
   "execution_count": null,
   "id": "b79045ca",
   "metadata": {},
   "outputs": [],
   "source": [
    "def test_take_n():\n",
    "    result = list(take_n(range(10), n=5))\n",
    "    assert result == list(range(5))\n",
    "    result = list(take_n(range(10), n=4))\n",
    "    assert result == list(range(4))"
   ]
  },
  {
   "cell_type": "code",
   "execution_count": null,
   "id": "29d29e6b",
   "metadata": {},
   "outputs": [],
   "source": [
    "#| export\n",
    "from datetime import datetime, UTC\n",
    "\n",
    "def dt_str_now() -> str:\n",
    "    return datetime.now(UTC).strftime(\"%Y-%m-%d-%H%M\")\n",
    "\n",
    "def date_str_now() -> str:\n",
    "    \"\"\"Export a date string year-month-day\"\"\"\n",
    "    return datetime.now(UTC).strftime(\"%Y-%m-%d\")\n",
    "\n",
    "def datetime_to_stamp(dt: datetime = None) -> str:\n",
    "    \"\"\"Convert datetime to format YYYYMMDDHHMM (e.g. 202507171140)\"\"\"\n",
    "    if dt is None:\n",
    "        dt = datetime.now()\n",
    "    return dt.strftime(\"%Y%m%d%H%M\")\n",
    "\n",
    "# Usage example\n",
    "# stamp = datetime_to_stamp(datetime(2025, 7, 17, 11, 40))  # Returns '202507171140'\n",
    "# stamp = datetime_to_stamp()  # Returns current time in YYYYMMDDHHMM format\n"
   ]
  },
  {
   "cell_type": "code",
   "execution_count": 7,
   "id": "4e0bd7ae",
   "metadata": {},
   "outputs": [],
   "source": [
    "#| export\n",
    "def list_concat(lists: list[list]) -> list:\n",
    "    result = [\n",
    "        item for l_ in lists for item in l_\n",
    "    ]\n",
    "    return result"
   ]
  },
  {
   "cell_type": "code",
   "execution_count": 4,
   "id": "51b2d5fb",
   "metadata": {},
   "outputs": [],
   "source": [
    "from fastcore.basics import concat, flatten"
   ]
  },
  {
   "cell_type": "code",
   "execution_count": 5,
   "id": "49d62426",
   "metadata": {},
   "outputs": [
    {
     "data": {
      "text/plain": [
       "[0, 1, 2, 3, 0, 1, 2, 12, 1, 11]"
      ]
     },
     "execution_count": null,
     "metadata": {},
     "output_type": "execute_result"
    }
   ],
   "source": [
    "concat([0, [1, 2, 3], range(3), [[12], 1, [11]]])"
   ]
  }
 ],
 "metadata": {
  "kernelspec": {
   "display_name": ".venv",
   "language": "python",
   "name": "python3"
  },
  "language_info": {
   "codemirror_mode": {
    "name": "ipython",
    "version": 3
   },
   "file_extension": ".py",
   "mimetype": "text/x-python",
   "name": "python",
   "nbconvert_exporter": "python",
   "pygments_lexer": "ipython3",
   "version": "3.13.2"
  }
 },
 "nbformat": 4,
 "nbformat_minor": 5
}
