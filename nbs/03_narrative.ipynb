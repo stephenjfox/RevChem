{
 "cells": [
  {
   "cell_type": "markdown",
   "metadata": {},
   "source": [
    "# Narrative"
   ]
  },
  {
   "cell_type": "markdown",
   "metadata": {},
   "source": [
    "## Background"
   ]
  },
  {
   "cell_type": "markdown",
   "metadata": {},
   "source": [
    "* We sought to use two different system - RealEye and Tobii - to gleen data regarding student attention with respect to visual stimuli based on General Chemistry problems.\n",
    "* Each system produces a time series of coordinates that (should) indicate where the students were looking when solving a given problem. Any given coordinate will henceforth be called a **gaze point (gp)**.\n",
    "* Data resolution:\n",
    "    * Tobii, 120 Hz, more expensive\n",
    "    * RealEye, 30 Hz, less expensive\n",
    "* Many questions come from this\n",
    "    * Can the data sets be reconciled or aligned, such that for a given wall-clock second we can compare a RealEye gp with a Tobii gp\n",
    "    * Can RealEye be just as accurate as Tobii?\n",
    "    * Why does RealEye visualize a splotch?\n",
    "    * Can we reproduce RealEye's visualizations? Tobii's?"
   ]
  },
  {
   "cell_type": "markdown",
   "metadata": {},
   "source": [
    "## Questions / The Story So Far..."
   ]
  },
  {
   "cell_type": "markdown",
   "metadata": {},
   "source": [
    "## Gaze Point: what are you\n",
    "|Priority | Completion |\n",
    "|-------|----------|\n",
    "|Medium | ✅ |\n",
    "|ROI | High|\n",
    "\n",
    "The data suggests that Tobii is recording a coordinate within the RealEye viewing window as we complete Tobii 1 project.\n",
    "\n",
    "**Question**:\n",
    "- for coordinate absolute coordinate $(A_x, A_y)$ as recorded by Tobii, is the \"gaze in frame\" (or \"point in window\") pixel $(A_x^G, A_y^G)$ the same one as the Real Eye coordinate $(A_x^R, A_y^R)$?\n",
    "- In very short ${(A_x^G, A_y^G)} {? \\over \\equiv} {(A_x^R, A_y^R)}$\n",
    "\n"
   ]
  },
  {
   "cell_type": "markdown",
   "metadata": {},
   "source": [
    "**Answer**\n",
    "* The \"gaze in frame\" is more like \"gaze in window\" and it is _always_ `null` i.e. it is never populated\n",
    "* As such, the comparison ${(A_x^G, A_y^G)} {? \\over \\equiv} {(A_x^R, A_y^R)}$ can never be evaluated, as the left-hand side never has values"
   ]
  },
  {
   "cell_type": "markdown",
   "metadata": {},
   "source": [
    "### Spot vs Blob\n",
    "|Priority | Completion |\n",
    "|-------|----------|\n",
    "|High | ✅ |\n",
    "\n",
    "\n",
    "Question\n",
    "> Does RealEye export merely a point? If so why does it draw a splotch?\n",
    "\n",
    "RealEye does, indeed, export a point.\n",
    "- Not shape (i.e. rect. or circle) definitions, or parameters, just an X,Y-pair"
   ]
  },
  {
   "cell_type": "markdown",
   "metadata": {},
   "source": [
    "### What's in the blob?\n",
    "|Priority | Completion |\n",
    "|-------|----------|\n",
    "|Low | In Progress |\n",
    "\n",
    "- Do the Tobii coordinates stay fixed while the RealEye coordinates stay fixed?\n",
    "- **Inference**: Tobii is higher frequency and would be noiser than the lower frequency RealEye time series.\n",
    "- To calculate, we would compute some stats on the Tobii spread (the 120/30 points per RealEye coordinate) and monitor \"spread\" i.e. stddev, range, iqr.\n",
    "- To visualize, we would draw a ring from those stats (parameterized circle being a center and its radius)\n",
    "\n",
    "---\n"
   ]
  },
  {
   "cell_type": "markdown",
   "metadata": {},
   "source": [
    "### Can we show the coordinates on the Stimulus?\n",
    "|Priority | Completion |\n",
    "|-------|----------|\n",
    "|Medium | In Progress |\n",
    "\n",
    "In theory, a video can be shown of the stimulus and the points over them\n",
    "- This would be recreating a visual that RealEye can give us through their UI\n",
    "- This is a work-in-progress.\n",
    "    - Stephen needs to make the code path clear. Video isn't the hard part, per se, but the \"overlay\" aspect is something that needs some cursory research.\n",
    "- Ideally, we would see 4-times the data points in the Tobii sequence after the commencement of the RealEye data, but that only holds occassionally.\n",
    "\n",
    "2025-07-04\n",
    "- This has been achieved. Stitching together the entire video is harder\n",
    "    - Have to keep the RealEye records segmented, and treat each \"end of dataframe\" as the end of the stimulus\n",
    "    - I could probably do it, though..."
   ]
  },
  {
   "cell_type": "markdown",
   "metadata": {},
   "source": []
  }
 ],
 "metadata": {
  "language_info": {
   "name": "plaintext"
  }
 },
 "nbformat": 4,
 "nbformat_minor": 2
}
