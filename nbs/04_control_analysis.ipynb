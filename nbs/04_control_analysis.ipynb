{
 "cells": [
  {
   "cell_type": "markdown",
   "metadata": {},
   "source": [
    "# Control Analysis\n",
    "\n",
    "This notebook exists to show the controlled trial that Stephen recorded to resolve the disparity of ~20% of trials have a RealEye timeseries terminating after the corresponding Tobii timeseries. Given the testing protocol, this makes no sense.\n",
    "As we cannot reconduct the trials, we need to investigate to salvage this data."
   ]
  },
  {
   "cell_type": "markdown",
   "metadata": {},
   "source": [
    "## Sequence comparison\n",
    "Simply put: do all our invariants hold?\n",
    "\n",
    "\n",
    "**Invariants** (Trial-level)\n",
    "1. The Tobii timeseries starts before the RealEye timeseries\n",
    "2. The Tobii timeseries ends after the RealEye timeseries\n",
    "\n",
    "\n",
    "**Invariants** (Dataset-level)\n",
    "\n",
    "3. A given RealEye timeseries is of a (relatively) fixed length  <!--TODO: what is that length?-->"
   ]
  },
  {
   "cell_type": "code",
   "execution_count": 1,
   "metadata": {},
   "outputs": [
    {
     "ename": "NameError",
     "evalue": "name 'Path' is not defined",
     "output_type": "error",
     "traceback": [
      "\u001b[31m---------------------------------------------------------------------------\u001b[39m",
      "\u001b[31mNameError\u001b[39m                                 Traceback (most recent call last)",
      "\u001b[36mCell\u001b[39m\u001b[36m \u001b[39m\u001b[32mIn[1]\u001b[39m\u001b[32m, line 6\u001b[39m\n\u001b[32m      2\u001b[39m \u001b[38;5;28;01mimport\u001b[39;00m\u001b[38;5;250m \u001b[39m\u001b[34;01mpolars\u001b[39;00m\u001b[38;5;250m \u001b[39m\u001b[38;5;28;01mas\u001b[39;00m\u001b[38;5;250m \u001b[39m\u001b[34;01mpl\u001b[39;00m\n\u001b[32m      5\u001b[39m \u001b[38;5;28;01mfrom\u001b[39;00m\u001b[38;5;250m \u001b[39m\u001b[34;01mRevChem\u001b[39;00m\u001b[34;01m.\u001b[39;00m\u001b[34;01mrealeye\u001b[39;00m\u001b[38;5;250m \u001b[39m\u001b[38;5;28;01mimport\u001b[39;00m iter_parse_raw_data\n\u001b[32m----> \u001b[39m\u001b[32m6\u001b[39m \u001b[38;5;28;01mfrom\u001b[39;00m\u001b[38;5;250m \u001b[39m\u001b[34;01mRevChem\u001b[39;00m\u001b[34;01m.\u001b[39;00m\u001b[34;01mtobii\u001b[39;00m\u001b[38;5;250m \u001b[39m\u001b[38;5;28;01mimport\u001b[39;00m (\n\u001b[32m      7\u001b[39m     find_tobii_realeye_df_pairs,\n\u001b[32m      8\u001b[39m     read_realeye_raw_gazes_csv,\n\u001b[32m      9\u001b[39m     unroll_realeye_dataframe_into_record_dataframes,\n\u001b[32m     10\u001b[39m )\n",
      "\u001b[36mFile \u001b[39m\u001b[32m~/dev/RevChem_py/RevChem/tobii.py:145\u001b[39m\n\u001b[32m    127\u001b[39m     \u001b[38;5;28;01mreturn\u001b[39;00m realeye_df.with_columns(\n\u001b[32m    128\u001b[39m         \u001b[38;5;66;03m# unpack into dictionaries that function as tuples. Call them coordinate pairs\u001b[39;00m\n\u001b[32m    129\u001b[39m         coordinate_pairs=pl.col(\u001b[33m\"\u001b[39m\u001b[33mtest_raw_data\u001b[39m\u001b[33m\"\u001b[39m).map_elements(\n\u001b[32m   (...)\u001b[39m\u001b[32m    139\u001b[39m         ),  \u001b[38;5;66;03m# call that the number of elements\u001b[39;00m\n\u001b[32m    140\u001b[39m     ).drop(\u001b[33m\"\u001b[39m\u001b[33mtest_raw_data\u001b[39m\u001b[33m\"\u001b[39m)\n\u001b[32m    141\u001b[39m     \u001b[38;5;66;03m# .sort(by=\"test_created_at\") # temporal sort is not necessary. We've sorted the data already.\u001b[39;00m\n\u001b[32m    144\u001b[39m \u001b[38;5;28;01mdef\u001b[39;00m\u001b[38;5;250m \u001b[39m\u001b[34mread_realeye_raw_gazes_csv\u001b[39m(\n\u001b[32m--> \u001b[39m\u001b[32m145\u001b[39m     path_to_csv: \u001b[38;5;28mstr\u001b[39m | \u001b[43mPath\u001b[49m, decorated: \u001b[38;5;28mbool\u001b[39m = \u001b[38;5;28;01mTrue\u001b[39;00m\n\u001b[32m    146\u001b[39m ) -> pl.DataFrame:\n\u001b[32m    147\u001b[39m     \u001b[33m\"\u001b[39m\u001b[33mReal the RealEye raw-gazes.csv, decorating with field of RealEyeStruct if `decorated` == True\u001b[39m\u001b[33m\"\u001b[39m\n\u001b[32m    148\u001b[39m     raw_csv = pl.read_csv(\n\u001b[32m    149\u001b[39m         path_to_csv,\n\u001b[32m    150\u001b[39m         columns=[\u001b[33m\"\u001b[39m\u001b[33mparticipant_id\u001b[39m\u001b[33m\"\u001b[39m, \u001b[33m\"\u001b[39m\u001b[33mitem_id\u001b[39m\u001b[33m\"\u001b[39m, \u001b[33m\"\u001b[39m\u001b[33mtest_created_at\u001b[39m\u001b[33m\"\u001b[39m, \u001b[33m\"\u001b[39m\u001b[33mtest_raw_data\u001b[39m\u001b[33m\"\u001b[39m],\n\u001b[32m    151\u001b[39m         schema_overrides={\u001b[33m\"\u001b[39m\u001b[33mtest_created_at\u001b[39m\u001b[33m\"\u001b[39m: pl.Datetime},\n\u001b[32m    152\u001b[39m     ).sort(by=\u001b[33m\"\u001b[39m\u001b[33mtest_created_at\u001b[39m\u001b[33m\"\u001b[39m)\n",
      "\u001b[31mNameError\u001b[39m: name 'Path' is not defined"
     ]
    }
   ],
   "source": [
    "from pathlib import Path\n",
    "import polars as pl\n",
    "\n",
    "\n",
    "from RevChem.realeye import iter_parse_raw_data\n",
    "from RevChem.tobii import (\n",
    "    find_tobii_realeye_df_pairs,\n",
    "    read_realeye_raw_gazes_csv,\n",
    "    unroll_realeye_dataframe_into_record_dataframes,\n",
    ")"
   ]
  },
  {
   "cell_type": "code",
   "execution_count": 2,
   "metadata": {},
   "outputs": [],
   "source": [
    "RAW_DATA_ROOT = \"../../RevChemData/2025-05-14-Data_Export\"\n",
    "TOBII_ROOT = f\"{RAW_DATA_ROOT}/Tobii-All-Snapshot\"\n",
    "REALEYE_ROOT = f\"{RAW_DATA_ROOT}/RealEye\""
   ]
  },
  {
   "cell_type": "code",
   "execution_count": 3,
   "metadata": {},
   "outputs": [],
   "source": [
    "def check_tobii_starts_before_realeye(tobii_df: pl.DataFrame, realeye_df: pl.DataFrame) -> bool:\n",
    "    return tobii_df[\"timestamp\"].min() < realeye_df[\"timestamp\"].min()\n",
    "\n",
    "def check_tobii_ends_after_realeye(tobii_df: pl.DataFrame, realeye_df: pl.DataFrame) -> bool:\n",
    "    return tobii_df[\"timestamp\"].max() > realeye_df[\"timestamp\"].max()\n"
   ]
  },
  {
   "cell_type": "code",
   "execution_count": 4,
   "metadata": {},
   "outputs": [
    {
     "name": "stdout",
     "output_type": "stream",
     "text": [
      "\u001b[31m../../RevChemData/2025-05-14-Data_Export/Tobii-All-Snapshot/1.Realeye1,2,3 2025-05-05_Stephen-Kathy-Control.tsv\u001b[m\u001b[m\r\n"
     ]
    }
   ],
   "source": [
    "!ls \"{TOBII_ROOT}/1.Realeye1,2,3 2025-05-05_Stephen-Kathy-Control.tsv\"\n"
   ]
  },
  {
   "cell_type": "code",
   "execution_count": 5,
   "metadata": {},
   "outputs": [],
   "source": [
    "all_re_dfs = unroll_realeye_dataframe_into_record_dataframes(read_realeye_raw_gazes_csv(Path(REALEYE_ROOT, \"raw-gazes.csv\")))"
   ]
  },
  {
   "cell_type": "code",
   "execution_count": 12,
   "metadata": {},
   "outputs": [],
   "source": [
    "from datetime import datetime"
   ]
  },
  {
   "cell_type": "code",
   "execution_count": 17,
   "metadata": {},
   "outputs": [],
   "source": [
    "dfs_aligned_with_control = [\n",
    "    df\n",
    "    for df in all_re_dfs\n",
    "    if ((time := df[\"timestamp\"][0]).date() == datetime(2025, 5, 5).date())\n",
    "    and time.hour == 20\n",
    "]"
   ]
  },
  {
   "cell_type": "code",
   "execution_count": null,
   "metadata": {},
   "outputs": [
    {
     "data": {
      "text/plain": [
       "[(32,\n",
       "  shape: (1, 3)\n",
       "  ┌─────────────────────────┬─────┬─────┐\n",
       "  │ timestamp               ┆ X   ┆ Y   │\n",
       "  │ ---                     ┆ --- ┆ --- │\n",
       "  │ datetime[μs, UTC]       ┆ i64 ┆ i64 │\n",
       "  ╞═════════════════════════╪═════╪═════╡\n",
       "  │ 2025-05-05 20:21:40 UTC ┆ 813 ┆ 522 │\n",
       "  └─────────────────────────┴─────┴─────┘),\n",
       " (7285,\n",
       "  shape: (1, 3)\n",
       "  ┌─────────────────────────┬─────┬─────┐\n",
       "  │ timestamp               ┆ X   ┆ Y   │\n",
       "  │ ---                     ┆ --- ┆ --- │\n",
       "  │ datetime[μs, UTC]       ┆ i64 ┆ i64 │\n",
       "  ╞═════════════════════════╪═════╪═════╡\n",
       "  │ 2025-05-05 20:21:41 UTC ┆ 884 ┆ 514 │\n",
       "  └─────────────────────────┴─────┴─────┘)]"
      ]
     },
     "execution_count": null,
     "metadata": {},
     "output_type": "execute_result"
    }
   ],
   "source": [
    "# 2025-06-\n",
    "[(len(df), df.head(1)) for df in dfs_aligned_with_control]"
   ]
  },
  {
   "cell_type": "markdown",
   "metadata": {},
   "source": [
    "### Note for those who follow\n",
    "In my almost-exactly 7:53 minute run (which really starts at 0:40)\n",
    "- Calibration takes almost exactly a minute, given no errors or recalibration\n",
    "- I start RealEye calibration at 20:16:13, yet RealEye recorded the start time as 5 minutes later\n",
    "    - TS [1:53, 7:24] is my test, which makes it 5 minutes 31 seconds\n",
    "- When I next see the desktop screen it's 20:21:51.\n",
    "- That's 10 seconds before RealEye records the start time.\n"
   ]
  },
  {
   "cell_type": "markdown",
   "metadata": {},
   "source": [
    "## Heatmap inspection\n",
    "Having looked at the timeseries themselves, this will be a spot check for the visualization\n",
    "* While the triangle was on screen, I tried to stay focused on it\n",
    "* When the ocean acidification stimulus was displayed, I looked all over the place after looking at the answer\n",
    "* On the organic molecule, I believe I traced the structure of the molecule with my eyes"
   ]
  },
  {
   "cell_type": "code",
   "execution_count": null,
   "metadata": {},
   "outputs": [],
   "source": []
  }
 ],
 "metadata": {
  "kernelspec": {
   "display_name": ".venv",
   "language": "python",
   "name": "python3"
  },
  "language_info": {
   "codemirror_mode": {
    "name": "ipython",
    "version": 3
   },
   "file_extension": ".py",
   "mimetype": "text/x-python",
   "name": "python",
   "nbconvert_exporter": "python",
   "pygments_lexer": "ipython3",
   "version": "3.13.2"
  }
 },
 "nbformat": 4,
 "nbformat_minor": 2
}
